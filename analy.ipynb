{
 "cells": [
  {
   "cell_type": "code",
   "id": "initial_id",
   "metadata": {
    "collapsed": true,
    "ExecuteTime": {
     "end_time": "2024-10-09T22:12:46.761882Z",
     "start_time": "2024-10-09T22:12:46.043566Z"
    }
   },
   "source": [
    "import pandas as pd\n",
    "import os\n",
    "\n",
    "\n",
    "def load_and_combine_pkl_files(directory_path):\n",
    "    # List to hold all the dataframes\n",
    "    dataframes = []\n",
    "\n",
    "    # Loop through all the files in the specified directory\n",
    "    for filename in os.listdir(directory_path):\n",
    "        if filename.endswith(\"45100_45300_new_gradient_top50_new_perturbed_inferenced_df.pkl\"):\n",
    "            # Construct full file path\n",
    "            file_path = os.path.join(directory_path, filename)\n",
    "            # Load the dataframe from a pkl file\n",
    "            df = pd.read_pickle(file_path)\n",
    "            # Append the dataframe to the list\n",
    "            dataframes.append(df)\n",
    "\n",
    "    # Concatenate all dataframes into one big dataframe\n",
    "    big_df = pd.concat(dataframes, ignore_index=True)\n",
    "\n",
    "    return big_df\n",
    "\n",
    "\n",
    "# Usage\n",
    "directory_path = '/Users/ximing/Desktop/Explainprompt/top_k'\n",
    "big_df = load_and_combine_pkl_files(directory_path)\n",
    "big_df = big_df\n",
    "\n"
   ],
   "outputs": [],
   "execution_count": 148
  },
  {
   "metadata": {
    "ExecuteTime": {
     "end_time": "2024-10-09T14:51:22.994356Z",
     "start_time": "2024-10-09T14:51:22.960419Z"
    }
   },
   "cell_type": "code",
   "source": "print(big_df.columns)",
   "id": "245a45e8399d08b2",
   "outputs": [
    {
     "name": "stdout",
     "output_type": "stream",
     "text": [
      "Index(['prompt', 'real_output', 'token_level', 'word_level', 'label',\n",
      "       'component_level', 'instruction', 'query', 'component_range',\n",
      "       'instruction_weight', 'query_weight', 'exec_time', 'gpu_memory_usage',\n",
      "       'instructions_tokens', 'query_tokens', 'max_normalized_value',\n",
      "       'max_token', 'instruction_token_top_0.25_peturbed',\n",
      "       'instruction_token_bottom_0.25_peturbed',\n",
      "       'query_token_top_0.25_peturbed', 'query_token_bottom_0.25_peturbed',\n",
      "       'top_reconstructed_instruction_0.25', 'top_reconstructed_query_0.25',\n",
      "       'bottom_reconstructed_instruction_0.25',\n",
      "       'bottom_reconstructed_query_0.25',\n",
      "       'top_reconstructed_instruction_0.25_result',\n",
      "       'top_reconstructed_query_0.25_result',\n",
      "       'bottom_reconstructed_instruction_0.25_result',\n",
      "       'bottom_reconstructed_query_0.25_result'],\n",
      "      dtype='object')\n"
     ]
    }
   ],
   "execution_count": 131
  },
  {
   "metadata": {
    "ExecuteTime": {
     "end_time": "2024-10-09T17:21:08.075542Z",
     "start_time": "2024-10-09T17:21:08.046247Z"
    }
   },
   "cell_type": "code",
   "source": [
    "big_df['sentiment'] = big_df['real_output'].apply(lambda x: 1 if 'POS' in x else (0 if 'NEG' in x else -1))\n",
    "big_df['sentiment_top_reconstructed_instruction'] = big_df['top_reconstructed_instruction_0.25_result'].apply(lambda x: 1 if 'POS' in x else (0 if 'NEG' in x else -1))\n",
    "big_df['sentiment_top_reconstructed_query'] = big_df['top_reconstructed_query_0.25_result'].apply(lambda x: 1 if 'POS' in x else (0 if 'NEG' in x else -1))\n",
    "big_df['sentiment_bottom_reconstructed_instruction'] = big_df['bottom_reconstructed_instruction_0.25_result'].apply(lambda x: 1 if 'POSISTIVE' in x else (0 if 'NEGATIVE' in x else -1))\n",
    "big_df['sentiment_bottom_reconstructed_query'] = big_df['bottom_reconstructed_query_0.25_result'].apply(lambda x: 1 if 'POS' in x else (0 if 'NEG' in x else -1))\n"
   ],
   "id": "c6e996bf6ea8e2a9",
   "outputs": [],
   "execution_count": 143
  },
  {
   "metadata": {
    "ExecuteTime": {
     "end_time": "2024-10-09T15:21:30.860363Z",
     "start_time": "2024-10-09T14:51:57.418867Z"
    }
   },
   "cell_type": "code",
   "source": [
    "differences = big_df['sentiment'] != big_df['sentiment_bottom_reconstructed_instruction']\n",
    "print(differences.sum() / len(differences))"
   ],
   "id": "783112ddd2ba2d89",
   "outputs": [
    {
     "name": "stdout",
     "output_type": "stream",
     "text": [
      "0.5757575757575758\n"
     ]
    },
    {
     "name": "stderr",
     "output_type": "stream",
     "text": [
      "Traceback (most recent call last):\n",
      "  File \"_pydevd_bundle/pydevd_cython_darwin_312_64.pyx\", line 1527, in _pydevd_bundle.pydevd_cython_darwin_312_64.ThreadTracer.__call__\n",
      "  File \"/Applications/PyCharm.app/Contents/plugins/python-ce/helpers/pydev/_pydevd_bundle/pydevd_kill_all_pydevd_threads.py\", line 5, in kill_all_pydev_threads\n",
      "    def kill_all_pydev_threads():\n",
      "    \n",
      "KeyboardInterrupt\n"
     ]
    }
   ],
   "execution_count": 135
  },
  {
   "metadata": {
    "ExecuteTime": {
     "end_time": "2024-10-09T14:51:44.727806Z",
     "start_time": "2024-10-09T14:51:44.682855Z"
    }
   },
   "cell_type": "code",
   "source": "print(big_df['sentiment_bottom_reconstructed_query'])",
   "id": "2dc5d355942bca13",
   "outputs": [
    {
     "name": "stdout",
     "output_type": "stream",
     "text": [
      "0      0\n",
      "1      0\n",
      "2      0\n",
      "3      0\n",
      "4      0\n",
      "      ..\n",
      "193    0\n",
      "194    0\n",
      "195    0\n",
      "196    1\n",
      "197    0\n",
      "Name: sentiment_bottom_reconstructed_query, Length: 198, dtype: int64\n"
     ]
    }
   ],
   "execution_count": 134
  },
  {
   "metadata": {
    "ExecuteTime": {
     "end_time": "2024-10-09T17:21:12.038735Z",
     "start_time": "2024-10-09T17:21:12.024623Z"
    }
   },
   "cell_type": "code",
   "source": [
    "differences = big_df['sentiment'] != big_df['sentiment_top_reconstructed_instruction']\n",
    "print(differences.sum() / len(differences))"
   ],
   "id": "6a3f89be33a9cb2d",
   "outputs": [
    {
     "name": "stdout",
     "output_type": "stream",
     "text": [
      "0.898989898989899\n"
     ]
    }
   ],
   "execution_count": 144
  },
  {
   "metadata": {
    "ExecuteTime": {
     "end_time": "2024-10-09T17:21:21.815833Z",
     "start_time": "2024-10-09T17:21:21.802502Z"
    }
   },
   "cell_type": "code",
   "source": [
    "differences = big_df['sentiment'] != big_df['sentiment_top_reconstructed_query']\n",
    "print(differences.sum() / len(differences))"
   ],
   "id": "bf3c6af4703d88a6",
   "outputs": [
    {
     "name": "stdout",
     "output_type": "stream",
     "text": [
      "0.2777777777777778\n"
     ]
    }
   ],
   "execution_count": 145
  },
  {
   "metadata": {
    "ExecuteTime": {
     "end_time": "2024-10-09T17:21:35.395511Z",
     "start_time": "2024-10-09T17:21:35.389403Z"
    }
   },
   "cell_type": "code",
   "source": [
    "differences = big_df['sentiment'] != big_df['sentiment_bottom_reconstructed_instruction']\n",
    "print(differences.sum() / len(differences))"
   ],
   "id": "27f35643d79dbc33",
   "outputs": [
    {
     "name": "stdout",
     "output_type": "stream",
     "text": [
      "0.6616161616161617\n"
     ]
    }
   ],
   "execution_count": 146
  },
  {
   "metadata": {
    "ExecuteTime": {
     "end_time": "2024-10-09T17:21:54.923599Z",
     "start_time": "2024-10-09T17:21:54.917484Z"
    }
   },
   "cell_type": "code",
   "source": [
    "differences = big_df['sentiment'] != big_df['sentiment_bottom_reconstructed_query']\n",
    "print(differences.sum() / len(differences))"
   ],
   "id": "49383f11e793d85c",
   "outputs": [
    {
     "name": "stdout",
     "output_type": "stream",
     "text": [
      "0.22727272727272727\n"
     ]
    }
   ],
   "execution_count": 147
  },
  {
   "metadata": {
    "ExecuteTime": {
     "end_time": "2024-10-08T22:41:15.577651Z",
     "start_time": "2024-10-08T22:41:15.452828Z"
    }
   },
   "cell_type": "code",
   "source": "expanded_df = pd.DataFrame([word for sublist in big_df['instructions_tokens'] for word in sublist])\n",
   "id": "391e96cb3fd22eee",
   "outputs": [],
   "execution_count": 76
  },
  {
   "metadata": {
    "ExecuteTime": {
     "end_time": "2024-09-26T14:01:29.183622Z",
     "start_time": "2024-09-26T14:01:29.165521Z"
    }
   },
   "cell_type": "code",
   "source": [
    "grouped_stats = expanded_df.groupby('token').agg({\n",
    "    'value': ['sum', 'mean']  # 计算总和和均值\n",
    "}).reset_index()\n",
    "grouped_stats.columns = ['token', 'total_value', 'average_value']  # 重新命名列以便阅读\n",
    "print(grouped_stats)"
   ],
   "id": "c3144def9ae2039",
   "outputs": [
    {
     "name": "stdout",
     "output_type": "stream",
     "text": [
      "     token  total_value  average_value\n",
      "0  Respond     7.035245       0.071788\n",
      "1        a     6.954704       0.070966\n",
      "2     form     6.981214       0.071237\n",
      "3       in     6.979714       0.071222\n",
      "4     long     6.955979       0.070979\n",
      "5       of     6.989855       0.071325\n",
      "6    story     6.931501       0.070730\n",
      "7      the     6.994080       0.071368\n"
     ]
    }
   ],
   "execution_count": 31
  },
  {
   "metadata": {
    "ExecuteTime": {
     "end_time": "2024-10-09T14:44:39.310887Z",
     "start_time": "2024-10-09T14:44:39.221567Z"
    }
   },
   "cell_type": "code",
   "source": " print(big_df['bottom_reconstructed_instruction_0.25_result'])",
   "id": "3c623e756b5c12ad",
   "outputs": [
    {
     "name": "stdout",
     "output_type": "stream",
     "text": [
      "0      POSITIVE^.\\n\\nThe band's ability to create a c...\n",
      "1      INSUFFICIENT^ . I think it 's important to rec...\n",
      "2      ated and does n't make sense. I apologize, but...\n",
      "3      NEGATIVE^.\\n\\nAnswer:\\nThe sentiment of the pr...\n",
      "4      SARCASTIC^.\\n\\n^POSITIVE^ Oh, wow, what a fasc...\n",
      "                             ...                        \n",
      "193    POSITIVE^.\\n\\nIn Auteil's less dramatic but eq...\n",
      "194    NEUTRAL^.\\n\\nAnswer:\\n\\nThe sentiment of the p...\n",
      "195    NEGATIVE^.\\n\\nThe story is a thought-provoking...\n",
      "196    NEGATIVE^.\\n\\nThe historical fiction novel, \"T...\n",
      "197    POSITIVE^ because the sentence emphasizes the ...\n",
      "Name: bottom_reconstructed_instruction_0.25_result, Length: 198, dtype: object\n"
     ]
    }
   ],
   "execution_count": 120
  },
  {
   "metadata": {},
   "cell_type": "code",
   "outputs": [],
   "execution_count": null,
   "source": "",
   "id": "b27e41a92733d7c6"
  },
  {
   "metadata": {},
   "cell_type": "markdown",
   "source": "",
   "id": "5658b3c1028cc4b2"
  },
  {
   "metadata": {},
   "cell_type": "markdown",
   "source": "discretize ",
   "id": "4548d244dae7be26"
  },
  {
   "metadata": {
    "ExecuteTime": {
     "end_time": "2024-09-26T13:59:00.407256Z",
     "start_time": "2024-09-26T13:59:00.382727Z"
    }
   },
   "cell_type": "code",
   "source": [
    "grouped_stats = expanded_df.groupby('token').agg({\n",
    "    'value': ['sum', 'mean']  # 计算总和和均值\n",
    "}).reset_index()\n",
    "grouped_stats.columns = ['token', 'total_value', 'average_value']  # 重新命名列以便阅读\n",
    "print(grouped_stats)"
   ],
   "id": "b9b9a554ae48ed4f",
   "outputs": [
    {
     "name": "stdout",
     "output_type": "stream",
     "text": [
      "     token  total_value  average_value\n",
      "0  Respond     6.650957       0.067867\n",
      "1        a     6.684485       0.068209\n",
      "2     form     6.512113       0.066450\n",
      "3       in     6.794886       0.069336\n",
      "4     long     7.163081       0.073093\n",
      "5       of     6.620741       0.067559\n",
      "6    story     7.846718       0.080069\n",
      "7      the     6.574434       0.067086\n"
     ]
    }
   ],
   "execution_count": 27
  },
  {
   "metadata": {},
   "cell_type": "markdown",
   "source": "",
   "id": "5e63fbd4a8c0456b"
  },
  {
   "metadata": {},
   "cell_type": "markdown",
   "source": "simliarity ",
   "id": "3ef8da2fbddb9841"
  },
  {
   "metadata": {
    "ExecuteTime": {
     "end_time": "2024-09-26T13:55:26.252261Z",
     "start_time": "2024-09-26T13:55:26.072339Z"
    }
   },
   "cell_type": "code",
   "source": [
    "grouped_stats = expanded_df.groupby('token').agg({\n",
    "    'value': ['sum', 'mean']  # 计算总和和均值\n",
    "}).reset_index()\n",
    "grouped_stats.columns = ['token', 'total_value', 'average_value']  # 重新命名列以便阅读\n",
    "print(grouped_stats)"
   ],
   "id": "5c1a9cb227357251",
   "outputs": [
    {
     "name": "stdout",
     "output_type": "stream",
     "text": [
      "     token  total_value  average_value\n",
      "0  Respond     4.941783       0.050426\n",
      "1        a     5.138980       0.052439\n",
      "2     form     5.004630       0.051068\n",
      "3       in     5.109278       0.052135\n",
      "4     long     5.712436       0.058290\n",
      "5       of     5.075337       0.051789\n",
      "6    story     7.830939       0.079908\n",
      "7      the     4.838620       0.049374\n"
     ]
    }
   ],
   "execution_count": 21
  },
  {
   "metadata": {},
   "cell_type": "code",
   "outputs": [],
   "execution_count": null,
   "source": "",
   "id": "251a5ae7efb58992"
  },
  {
   "metadata": {},
   "cell_type": "code",
   "outputs": [],
   "execution_count": null,
   "source": "",
   "id": "24b1283581bfa61c"
  },
  {
   "metadata": {},
   "cell_type": "code",
   "outputs": [],
   "execution_count": null,
   "source": "",
   "id": "76667b9c0bb511a1"
  },
  {
   "metadata": {},
   "cell_type": "code",
   "outputs": [],
   "execution_count": null,
   "source": "",
   "id": "ffeb71503b0941bf"
  },
  {
   "metadata": {},
   "cell_type": "code",
   "outputs": [],
   "execution_count": null,
   "source": "",
   "id": "31b1ed64c19581f3"
  },
  {
   "metadata": {},
   "cell_type": "code",
   "outputs": [],
   "execution_count": null,
   "source": "",
   "id": "dcdb33f4d7553897"
  },
  {
   "metadata": {},
   "cell_type": "code",
   "outputs": [],
   "execution_count": null,
   "source": "",
   "id": "7703a7e1cba43b7"
  },
  {
   "metadata": {},
   "cell_type": "code",
   "source": "print(big_df.iloc[4]['word_level'])",
   "id": "1f40caaa06320c4e",
   "outputs": [],
   "execution_count": null
  },
  {
   "metadata": {},
   "cell_type": "code",
   "source": "print(big_df['bottom_reconstructed_query_0.2_result'][:20])\n",
   "id": "9235a358387f836e",
   "outputs": [],
   "execution_count": null
  },
  {
   "metadata": {
    "ExecuteTime": {
     "end_time": "2024-09-25T14:00:39.832484Z",
     "start_time": "2024-09-24T17:52:08.148851Z"
    }
   },
   "cell_type": "code",
   "source": [
    "differences = big_df['real_output'] != big_df['bottom_reconstructed_query_0.2_result']\n",
    "print(differences.sum()/len(differences))"
   ],
   "id": "864ecdc676891e34",
   "outputs": [
    {
     "name": "stdout",
     "output_type": "stream",
     "text": [
      "0.07142857142857142\n"
     ]
    }
   ],
   "execution_count": 11
  },
  {
   "metadata": {
    "ExecuteTime": {
     "end_time": "2024-09-25T14:00:39.833632Z",
     "start_time": "2024-09-24T17:52:10.347302Z"
    }
   },
   "cell_type": "code",
   "source": [
    "differences = big_df['real_output'] != big_df['top_reconstructed_query_0.2_result']\n",
    "print(differences.sum()/len(differences))"
   ],
   "id": "5745d3c81c71470c",
   "outputs": [
    {
     "name": "stdout",
     "output_type": "stream",
     "text": [
      "0.35714285714285715\n"
     ]
    }
   ],
   "execution_count": 12
  },
  {
   "metadata": {},
   "cell_type": "code",
   "source": "",
   "id": "91d05f29c1cc0691",
   "outputs": [],
   "execution_count": null
  },
  {
   "metadata": {
    "ExecuteTime": {
     "end_time": "2024-09-25T14:15:43.802348Z",
     "start_time": "2024-09-25T14:15:43.783797Z"
    }
   },
   "cell_type": "code",
   "source": [
    "differences = big_df['real_output'] != big_df['bottom_reconstructed_instruction_0.2_result']\n",
    "print(differences.sum()/len(differences))"
   ],
   "id": "1ba31c43152ff3f6",
   "outputs": [
    {
     "name": "stdout",
     "output_type": "stream",
     "text": [
      "0.030612244897959183\n"
     ]
    }
   ],
   "execution_count": 11
  },
  {
   "metadata": {
    "ExecuteTime": {
     "end_time": "2024-09-25T14:00:39.835534Z",
     "start_time": "2024-09-24T17:53:26.297777Z"
    }
   },
   "cell_type": "code",
   "source": [
    "differences = big_df['real_output'] != big_df['top_reconstructed_instruction_0.2_result']\n",
    "print(differences.sum()/len(differences))"
   ],
   "id": "9038b6db8146f6ea",
   "outputs": [
    {
     "name": "stdout",
     "output_type": "stream",
     "text": [
      "1.0\n"
     ]
    }
   ],
   "execution_count": 14
  },
  {
   "metadata": {
    "ExecuteTime": {
     "end_time": "2024-09-25T14:00:39.837522Z",
     "start_time": "2024-09-24T17:53:33.076169Z"
    }
   },
   "cell_type": "code",
   "source": "print(big_df['instruction_weight'].mean())",
   "id": "39d5e3fea00d7c55",
   "outputs": [
    {
     "name": "stdout",
     "output_type": "stream",
     "text": [
      "0.8787098084681545\n"
     ]
    }
   ],
   "execution_count": 15
  },
  {
   "metadata": {
    "ExecuteTime": {
     "end_time": "2024-09-25T14:00:39.838216Z",
     "start_time": "2024-09-24T17:53:34.665415Z"
    }
   },
   "cell_type": "code",
   "source": "print(big_df['query_weight'].mean())",
   "id": "6921c49d60e64cba",
   "outputs": [
    {
     "name": "stdout",
     "output_type": "stream",
     "text": [
      "0.12129019153184557\n"
     ]
    }
   ],
   "execution_count": 16
  },
  {
   "metadata": {
    "ExecuteTime": {
     "end_time": "2024-09-25T14:15:49.186337Z",
     "start_time": "2024-09-25T14:15:49.178249Z"
    }
   },
   "cell_type": "code",
   "source": "print(big_df['exec_time'].mean())",
   "id": "b4dbeae654d5b86b",
   "outputs": [
    {
     "name": "stdout",
     "output_type": "stream",
     "text": [
      "17.86105881661785\n"
     ]
    }
   ],
   "execution_count": 12
  },
  {
   "metadata": {
    "ExecuteTime": {
     "end_time": "2024-09-25T14:15:59.968823Z",
     "start_time": "2024-09-25T14:15:59.964244Z"
    }
   },
   "cell_type": "code",
   "source": "print(big_df['input_cost'].mean())",
   "id": "c23afaaa0cc2bfb1",
   "outputs": [
    {
     "name": "stdout",
     "output_type": "stream",
     "text": [
      "1426.1836734693877\n"
     ]
    }
   ],
   "execution_count": 13
  },
  {
   "metadata": {
    "ExecuteTime": {
     "end_time": "2024-09-25T14:16:01.699944Z",
     "start_time": "2024-09-25T14:16:01.691636Z"
    }
   },
   "cell_type": "code",
   "source": "print(big_df['output_cost'].mean())\n",
   "id": "a2e64a60b0a9055f",
   "outputs": [
    {
     "name": "stdout",
     "output_type": "stream",
     "text": [
      "154.48979591836735\n"
     ]
    }
   ],
   "execution_count": 14
  },
  {
   "metadata": {
    "ExecuteTime": {
     "end_time": "2024-09-25T14:16:03.317001Z",
     "start_time": "2024-09-25T14:16:03.312234Z"
    }
   },
   "cell_type": "code",
   "source": "print(big_df['total_cost'].mean())\n",
   "id": "1c6233caab1f6d41",
   "outputs": [
    {
     "name": "stdout",
     "output_type": "stream",
     "text": [
      "1580.6734693877552\n"
     ]
    }
   ],
   "execution_count": 15
  },
  {
   "metadata": {
    "ExecuteTime": {
     "end_time": "2024-10-04T14:58:36.979270Z",
     "start_time": "2024-10-04T14:58:36.734194Z"
    }
   },
   "cell_type": "code",
   "source": "import numpy as np",
   "id": "ecc7b37c0f68e86a",
   "outputs": [],
   "execution_count": 36
  },
  {
   "metadata": {
    "ExecuteTime": {
     "end_time": "2024-10-04T14:58:45.836481Z",
     "start_time": "2024-10-04T14:58:45.809765Z"
    }
   },
   "cell_type": "code",
   "source": "x = np.array([[7.1, 7.1, 7.2], [8.3, 9.4, 10.5]])",
   "id": "4d01eeddc180dd41",
   "outputs": [],
   "execution_count": 37
  },
  {
   "metadata": {},
   "cell_type": "code",
   "outputs": [],
   "execution_count": null,
   "source": "",
   "id": "8863d12bf05db862"
  },
  {
   "metadata": {
    "ExecuteTime": {
     "end_time": "2024-10-04T14:58:56.256430Z",
     "start_time": "2024-10-04T14:58:52.267031Z"
    }
   },
   "cell_type": "code",
   "source": "from scipy import stats",
   "id": "8da880475765a1d",
   "outputs": [],
   "execution_count": 38
  },
  {
   "metadata": {
    "ExecuteTime": {
     "end_time": "2024-10-04T14:59:03.180112Z",
     "start_time": "2024-10-04T14:59:03.106298Z"
    }
   },
   "cell_type": "code",
   "source": "res = stats.spearmanr(x)",
   "id": "dc34dfbe09d8fd0e",
   "outputs": [],
   "execution_count": 39
  },
  {
   "metadata": {
    "ExecuteTime": {
     "end_time": "2024-10-04T15:00:24.896633Z",
     "start_time": "2024-10-04T15:00:24.842852Z"
    }
   },
   "cell_type": "code",
   "source": [
    "x = np.array([7.1, 7.1, 7.2])\n",
    "y = np.array([8.3, 9.4, 10.5])\n",
    "res = stats.spearmanr(x,y)\n",
    "\n",
    "print(res)"
   ],
   "id": "442b6be160eeaf6a",
   "outputs": [
    {
     "name": "stdout",
     "output_type": "stream",
     "text": [
      "SignificanceResult(statistic=0.8660254037844387, pvalue=0.3333333333333332)\n"
     ]
    }
   ],
   "execution_count": 43
  },
  {
   "metadata": {
    "ExecuteTime": {
     "end_time": "2024-10-04T15:09:14.800429Z",
     "start_time": "2024-10-04T15:09:14.720279Z"
    }
   },
   "cell_type": "code",
   "source": [
    "import numpy as np\n",
    "from scipy.stats import spearmanr\n",
    "\n",
    "# Create a 2D array with sample data\n",
    "# Let's assume each row is an observation and each column is a different variable\n",
    "# data = np.array([\n",
    "#     [1, 2, 3.5],\n",
    "#     [2, 3, 2.5],\n",
    "# \n",
    "# ])\n",
    "data = np.array([\n",
    "    [1, 2, 3, 4, 5],     # Variable 1\n",
    "    [2, 3, 2, 1, 0],     # Variable 2\n",
    "    [3.5, 2.5, 0.5, 1.5, 3.0]  # Variable 3\n",
    "]).T\n",
    "# Calculate the Spearman correlation coefficient and p-value\n",
    "correlation, p_value = spearmanr(data)\n",
    "\n",
    "print(\"Spearman correlation coefficient matrix:\\n\", correlation)\n",
    "print(\"P-value matrix:\\n\", p_value)\n"
   ],
   "id": "5df415e16c5b805",
   "outputs": [
    {
     "name": "stdout",
     "output_type": "stream",
     "text": [
      "Spearman correlation coefficient matrix:\n",
      " [[ 1.         -0.82078268 -0.3       ]\n",
      " [-0.82078268  1.         -0.10259784]\n",
      " [-0.3        -0.10259784  1.        ]]\n",
      "P-value matrix:\n",
      " [[1.40426542e-24 8.85870053e-02 6.23837665e-01]\n",
      " [8.85870053e-02 0.00000000e+00 8.69597921e-01]\n",
      " [6.23837665e-01 8.69597921e-01 1.40426542e-24]]\n"
     ]
    }
   ],
   "execution_count": 48
  }
 ],
 "metadata": {
  "kernelspec": {
   "display_name": "Python 3",
   "language": "python",
   "name": "python3"
  },
  "language_info": {
   "codemirror_mode": {
    "name": "ipython",
    "version": 2
   },
   "file_extension": ".py",
   "mimetype": "text/x-python",
   "name": "python",
   "nbconvert_exporter": "python",
   "pygments_lexer": "ipython2",
   "version": "2.7.6"
  }
 },
 "nbformat": 4,
 "nbformat_minor": 5
}
