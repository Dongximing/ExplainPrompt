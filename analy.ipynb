{
 "cells": [
  {
   "cell_type": "code",
   "id": "initial_id",
   "metadata": {
    "collapsed": true,
    "ExecuteTime": {
     "end_time": "2024-09-26T14:01:04.622922Z",
     "start_time": "2024-09-26T14:01:04.041627Z"
    }
   },
   "source": [
    "import pandas as pd\n",
    "import os\n",
    "\n",
    "\n",
    "def load_and_combine_pkl_files(directory_path):\n",
    "    # List to hold all the dataframes\n",
    "    dataframes = []\n",
    "\n",
    "    # Loop through all the files in the specified directory\n",
    "    for filename in os.listdir(directory_path):\n",
    "        if filename.endswith(\"1103_1203_logits_qa_postprocess_inferenced_df.pkl\"):\n",
    "            # Construct full file path\n",
    "            file_path = os.path.join(directory_path, filename)\n",
    "            # Load the dataframe from a pkl file\n",
    "            df = pd.read_pickle(file_path)\n",
    "            # Append the dataframe to the list\n",
    "            dataframes.append(df)\n",
    "\n",
    "    # Concatenate all dataframes into one big dataframe\n",
    "    big_df = pd.concat(dataframes, ignore_index=True)\n",
    "\n",
    "    return big_df\n",
    "\n",
    "\n",
    "# Usage\n",
    "directory_path = '/Users/ximing/Desktop/Explainprompt'\n",
    "big_df = load_and_combine_pkl_files(directory_path)\n",
    "big_df = big_df\n",
    "print(big_df)\n"
   ],
   "outputs": [
    {
     "name": "stdout",
     "output_type": "stream",
     "text": [
      "                                               prompt  \\\n",
      "0   Who wrote the Georgics? Respond in the form of...   \n",
      "1   Where did Augustus die? Respond in the form of...   \n",
      "2   Where do the ibex live? Respond in the form of...   \n",
      "3   Who died in the mutiny? Respond in the form of...   \n",
      "4   When was Vieira killed? Respond in the form of...   \n",
      "..                                                ...   \n",
      "93  Who was emir of Qazvin? Respond in the form of...   \n",
      "94  What are commonly used? Respond in the form of...   \n",
      "95  What relocated in 1934? Respond in the form of...   \n",
      "96  What was built in 1960? Respond in the form of...   \n",
      "97  What does AF stand for? Respond in the form of...   \n",
      "\n",
      "                                          real_output  \\\n",
      "0   The Georgics, a didactic poem in four books, i...   \n",
      "1   In the waning days of summer, the great Roman ...   \n",
      "2   In the rugged and unforgiving landscapes of th...   \n",
      "3   In the year 1857, amidst British rule in India...   \n",
      "4   Vieira was killed on August 23, 2017. It was a...   \n",
      "..                                                ...   \n",
      "93  The emir of Qazvin was a powerful and respecte...   \n",
      "94  In the small town of Willow Creek, there was a...   \n",
      "95  In 1934, amidst the Great Depression, a small ...   \n",
      "96  In the year 1960, a small town nestled in the ...   \n",
      "97  Once upon a time in the bustling city of New Y...   \n",
      "\n",
      "                                          token_level  \\\n",
      "0   {'tokens': [{'token': 'Who', 'type': 'input', ...   \n",
      "1   {'tokens': [{'token': 'Where', 'type': 'input'...   \n",
      "2   {'tokens': [{'token': 'Where', 'type': 'input'...   \n",
      "3   {'tokens': [{'token': 'Who', 'type': 'input', ...   \n",
      "4   {'tokens': [{'token': 'When', 'type': 'input',...   \n",
      "..                                                ...   \n",
      "93  {'tokens': [{'token': 'Who', 'type': 'input', ...   \n",
      "94  {'tokens': [{'token': 'What', 'type': 'input',...   \n",
      "95  {'tokens': [{'token': 'What', 'type': 'input',...   \n",
      "96  {'tokens': [{'token': 'What', 'type': 'input',...   \n",
      "97  {'tokens': [{'token': 'What', 'type': 'input',...   \n",
      "\n",
      "                                           word_level  \\\n",
      "0   {'tokens': [{'token': 'Who', 'type': 'input', ...   \n",
      "1   {'tokens': [{'token': 'Where', 'type': 'input'...   \n",
      "2   {'tokens': [{'token': 'Where', 'type': 'input'...   \n",
      "3   {'tokens': [{'token': 'Who', 'type': 'input', ...   \n",
      "4   {'tokens': [{'token': 'When', 'type': 'input',...   \n",
      "..                                                ...   \n",
      "93  {'tokens': [{'token': 'Who', 'type': 'input', ...   \n",
      "94  {'tokens': [{'token': 'What', 'type': 'input',...   \n",
      "95  {'tokens': [{'token': 'What', 'type': 'input',...   \n",
      "96  {'tokens': [{'token': 'What', 'type': 'input',...   \n",
      "97  {'tokens': [{'token': 'What', 'type': 'input',...   \n",
      "\n",
      "                                      component_level  \\\n",
      "0   ({'instruction': 0.5727899469807551, 'query': ...   \n",
      "1   ({'instruction': 0.5715004391643931, 'query': ...   \n",
      "2   ({'instruction': 0.5337360981715333, 'query': ...   \n",
      "3   ({'instruction': 0.5323411114023672, 'query': ...   \n",
      "4   ({'instruction': 0.5710749750974443, 'query': ...   \n",
      "..                                                ...   \n",
      "93  ({'instruction': 0.4750827653308807, 'query': ...   \n",
      "94  ({'instruction': 0.6152692800162796, 'query': ...   \n",
      "95  ({'instruction': 0.5336382751333321, 'query': ...   \n",
      "96  ({'instruction': 0.4989031030244205, 'query': ...   \n",
      "97  ({'instruction': 0.5697945676187121, 'query': ...   \n",
      "\n",
      "                            instruction                    query  \\\n",
      "0   Respond in the form of a long story  Who wrote the Georgics?   \n",
      "1   Respond in the form of a long story  Where did Augustus die?   \n",
      "2   Respond in the form of a long story  Where do the ibex live?   \n",
      "3   Respond in the form of a long story  Who died in the mutiny?   \n",
      "4   Respond in the form of a long story  When was Vieira killed?   \n",
      "..                                  ...                      ...   \n",
      "93  Respond in the form of a long story  Who was emir of Qazvin?   \n",
      "94  Respond in the form of a long story  What are commonly used?   \n",
      "95  Respond in the form of a long story  What relocated in 1934?   \n",
      "96  Respond in the form of a long story  What was built in 1960?   \n",
      "97  Respond in the form of a long story  What does AF stand for?   \n",
      "\n",
      "                                      component_range  instruction_weight  \\\n",
      "0   {'instruction': [5, 6, 7, 8, 9, 10, 11, 12], '...            0.572790   \n",
      "1   {'instruction': [5, 6, 7, 8, 9, 10, 11, 12], '...            0.571500   \n",
      "2   {'instruction': [6, 7, 8, 9, 10, 11, 12, 13], ...            0.533736   \n",
      "3   {'instruction': [6, 7, 8, 9, 10, 11, 12, 13], ...            0.532341   \n",
      "4   {'instruction': [5, 6, 7, 8, 9, 10, 11, 12], '...            0.571075   \n",
      "..                                                ...                 ...   \n",
      "93  {'instruction': [6, 7, 8, 9, 10, 11, 12, 13], ...            0.475083   \n",
      "94  {'instruction': [5, 6, 7, 8, 9, 10, 11, 12], '...            0.615269   \n",
      "95  {'instruction': [5, 6, 7, 8, 9, 10, 11, 12], '...            0.533638   \n",
      "96  {'instruction': [6, 7, 8, 9, 10, 11, 12, 13], ...            0.498903   \n",
      "97  {'instruction': [6, 7, 8, 9, 10, 11, 12, 13], ...            0.569795   \n",
      "\n",
      "    query_weight  exec_time  input_cost  output_cost  total_cost  \\\n",
      "0       0.427210  50.818133         182         5810        5992   \n",
      "1       0.428500  85.236724         182         5096        5278   \n",
      "2       0.466264  45.464583         210         5690        5900   \n",
      "3       0.467659  91.141478         210         5753        5963   \n",
      "4       0.428925  40.778493         182         5356        5538   \n",
      "..           ...        ...         ...          ...         ...   \n",
      "93      0.524917  57.976099         272         7470        7742   \n",
      "94      0.384731  83.154803         156         4953        5109   \n",
      "95      0.466362  64.377148         210         6572        6782   \n",
      "96      0.501097  49.449035         240         6346        6586   \n",
      "97      0.430205  59.547931         182         5175        5357   \n",
      "\n",
      "                                          real_ouputs  \\\n",
      "0   [The Georgics, a didactic poem in four books, ...   \n",
      "1   [In the waning days of summer, the great Roman...   \n",
      "2   [In the rugged and unforgiving landscapes of t...   \n",
      "3   [In the year 1857, amidst British rule in Indi...   \n",
      "4   [Vieira was killed on August 23, 2017. It was ...   \n",
      "..                                                ...   \n",
      "93  [The emir of Qazvin was a powerful and respect...   \n",
      "94  [In the small town of Willow Creek, there was ...   \n",
      "95  [In 1934, amidst the Great Depression, a small...   \n",
      "96  [In the year 1960, a small town nestled in the...   \n",
      "97  [Once upon a time in the bustling city of New ...   \n",
      "\n",
      "                                  instructions_tokens  \\\n",
      "0   [{'token': 'Respond', 'type': 'input', 'value'...   \n",
      "1   [{'token': 'Respond', 'type': 'input', 'value'...   \n",
      "2   [{'token': 'Respond', 'type': 'input', 'value'...   \n",
      "3   [{'token': 'Respond', 'type': 'input', 'value'...   \n",
      "4   [{'token': 'Respond', 'type': 'input', 'value'...   \n",
      "..                                                ...   \n",
      "93  [{'token': 'Respond', 'type': 'input', 'value'...   \n",
      "94  [{'token': 'Respond', 'type': 'input', 'value'...   \n",
      "95  [{'token': 'Respond', 'type': 'input', 'value'...   \n",
      "96  [{'token': 'Respond', 'type': 'input', 'value'...   \n",
      "97  [{'token': 'Respond', 'type': 'input', 'value'...   \n",
      "\n",
      "                                         query_tokens  \n",
      "0   [{'token': 'Who', 'type': 'input', 'value': 0....  \n",
      "1   [{'token': 'Where', 'type': 'input', 'value': ...  \n",
      "2   [{'token': 'Where', 'type': 'input', 'value': ...  \n",
      "3   [{'token': 'Who', 'type': 'input', 'value': 0....  \n",
      "4   [{'token': 'When', 'type': 'input', 'value': 0...  \n",
      "..                                                ...  \n",
      "93  [{'token': 'Who', 'type': 'input', 'value': 0....  \n",
      "94  [{'token': 'What', 'type': 'input', 'value': 0...  \n",
      "95  [{'token': 'What', 'type': 'input', 'value': 0...  \n",
      "96  [{'token': 'What', 'type': 'input', 'value': 0...  \n",
      "97  [{'token': 'What', 'type': 'input', 'value': 0...  \n",
      "\n",
      "[98 rows x 17 columns]\n"
     ]
    }
   ],
   "execution_count": 28
  },
  {
   "metadata": {
    "ExecuteTime": {
     "end_time": "2024-09-26T14:01:09.075159Z",
     "start_time": "2024-09-26T14:01:09.069089Z"
    }
   },
   "cell_type": "code",
   "source": "print(big_df.columns)",
   "id": "245a45e8399d08b2",
   "outputs": [
    {
     "name": "stdout",
     "output_type": "stream",
     "text": [
      "Index(['prompt', 'real_output', 'token_level', 'word_level', 'component_level',\n",
      "       'instruction', 'query', 'component_range', 'instruction_weight',\n",
      "       'query_weight', 'exec_time', 'input_cost', 'output_cost', 'total_cost',\n",
      "       'real_ouputs', 'instructions_tokens', 'query_tokens'],\n",
      "      dtype='object')\n"
     ]
    }
   ],
   "execution_count": 29
  },
  {
   "metadata": {
    "ExecuteTime": {
     "end_time": "2024-09-26T14:01:11.706084Z",
     "start_time": "2024-09-26T14:01:11.700632Z"
    }
   },
   "cell_type": "code",
   "source": "expanded_df = pd.DataFrame([word for sublist in big_df['instructions_tokens'] for word in sublist])\n",
   "id": "391e96cb3fd22eee",
   "outputs": [],
   "execution_count": 30
  },
  {
   "metadata": {
    "ExecuteTime": {
     "end_time": "2024-09-26T14:01:29.183622Z",
     "start_time": "2024-09-26T14:01:29.165521Z"
    }
   },
   "cell_type": "code",
   "source": [
    "grouped_stats = expanded_df.groupby('token').agg({\n",
    "    'value': ['sum', 'mean']  # 计算总和和均值\n",
    "}).reset_index()\n",
    "grouped_stats.columns = ['token', 'total_value', 'average_value']  # 重新命名列以便阅读\n",
    "print(grouped_stats)"
   ],
   "id": "c3144def9ae2039",
   "outputs": [
    {
     "name": "stdout",
     "output_type": "stream",
     "text": [
      "     token  total_value  average_value\n",
      "0  Respond     7.035245       0.071788\n",
      "1        a     6.954704       0.070966\n",
      "2     form     6.981214       0.071237\n",
      "3       in     6.979714       0.071222\n",
      "4     long     6.955979       0.070979\n",
      "5       of     6.989855       0.071325\n",
      "6    story     6.931501       0.070730\n",
      "7      the     6.994080       0.071368\n"
     ]
    }
   ],
   "execution_count": 31
  },
  {
   "metadata": {},
   "cell_type": "code",
   "outputs": [],
   "execution_count": null,
   "source": "",
   "id": "3c623e756b5c12ad"
  },
  {
   "metadata": {},
   "cell_type": "code",
   "outputs": [],
   "execution_count": null,
   "source": "",
   "id": "b27e41a92733d7c6"
  },
  {
   "metadata": {},
   "cell_type": "markdown",
   "source": "",
   "id": "5658b3c1028cc4b2"
  },
  {
   "metadata": {},
   "cell_type": "markdown",
   "source": "discretize ",
   "id": "4548d244dae7be26"
  },
  {
   "metadata": {
    "ExecuteTime": {
     "end_time": "2024-09-26T13:59:00.407256Z",
     "start_time": "2024-09-26T13:59:00.382727Z"
    }
   },
   "cell_type": "code",
   "source": [
    "grouped_stats = expanded_df.groupby('token').agg({\n",
    "    'value': ['sum', 'mean']  \n",
    "}).reset_index()\n",
    "grouped_stats.columns = ['token', 'total_value', 'average_value'] \n",
    "print(grouped_stats)"
   ],
   "id": "b9b9a554ae48ed4f",
   "outputs": [
    {
     "name": "stdout",
     "output_type": "stream",
     "text": [
      "     token  total_value  average_value\n",
      "0  Respond     6.650957       0.067867\n",
      "1        a     6.684485       0.068209\n",
      "2     form     6.512113       0.066450\n",
      "3       in     6.794886       0.069336\n",
      "4     long     7.163081       0.073093\n",
      "5       of     6.620741       0.067559\n",
      "6    story     7.846718       0.080069\n",
      "7      the     6.574434       0.067086\n"
     ]
    }
   ],
   "execution_count": 27
  },
  {
   "metadata": {},
   "cell_type": "markdown",
   "source": "",
   "id": "5e63fbd4a8c0456b"
  },
  {
   "metadata": {},
   "cell_type": "markdown",
   "source": "simliarity ",
   "id": "3ef8da2fbddb9841"
  },
  {
   "metadata": {
    "ExecuteTime": {
     "end_time": "2024-09-26T13:55:26.252261Z",
     "start_time": "2024-09-26T13:55:26.072339Z"
    }
   },
   "cell_type": "code",
   "source": [
    "grouped_stats = expanded_df.groupby('token').agg({\n",
    "    'value': ['sum', 'mean']  # 计算总和和均值\n",
    "}).reset_index()\n",
    "grouped_stats.columns = ['token', 'total_value', 'average_value']  # 重新命名列以便阅读\n",
    "print(grouped_stats)"
   ],
   "id": "5c1a9cb227357251",
   "outputs": [
    {
     "name": "stdout",
     "output_type": "stream",
     "text": [
      "     token  total_value  average_value\n",
      "0  Respond     4.941783       0.050426\n",
      "1        a     5.138980       0.052439\n",
      "2     form     5.004630       0.051068\n",
      "3       in     5.109278       0.052135\n",
      "4     long     5.712436       0.058290\n",
      "5       of     5.075337       0.051789\n",
      "6    story     7.830939       0.079908\n",
      "7      the     4.838620       0.049374\n"
     ]
    }
   ],
   "execution_count": 21
  },
  {
   "metadata": {},
   "cell_type": "code",
   "outputs": [],
   "execution_count": null,
   "source": "",
   "id": "251a5ae7efb58992"
  },
  {
   "metadata": {},
   "cell_type": "code",
   "outputs": [],
   "execution_count": null,
   "source": "",
   "id": "24b1283581bfa61c"
  },
  {
   "metadata": {},
   "cell_type": "code",
   "outputs": [],
   "execution_count": null,
   "source": "",
   "id": "76667b9c0bb511a1"
  },
  {
   "metadata": {},
   "cell_type": "code",
   "outputs": [],
   "execution_count": null,
   "source": "",
   "id": "ffeb71503b0941bf"
  },
  {
   "metadata": {},
   "cell_type": "code",
   "outputs": [],
   "execution_count": null,
   "source": "",
   "id": "31b1ed64c19581f3"
  },
  {
   "metadata": {},
   "cell_type": "code",
   "outputs": [],
   "execution_count": null,
   "source": "",
   "id": "dcdb33f4d7553897"
  },
  {
   "metadata": {},
   "cell_type": "code",
   "outputs": [],
   "execution_count": null,
   "source": "",
   "id": "7703a7e1cba43b7"
  },
  {
   "metadata": {},
   "cell_type": "code",
   "source": "print(big_df.iloc[4]['word_level'])",
   "id": "1f40caaa06320c4e",
   "outputs": [],
   "execution_count": null
  },
  {
   "metadata": {},
   "cell_type": "code",
   "source": "print(big_df['bottom_reconstructed_query_0.2_result'][:20])\n",
   "id": "9235a358387f836e",
   "outputs": [],
   "execution_count": null
  },
  {
   "metadata": {
    "ExecuteTime": {
     "end_time": "2024-09-25T14:00:39.832484Z",
     "start_time": "2024-09-24T17:52:08.148851Z"
    }
   },
   "cell_type": "code",
   "source": [
    "differences = big_df['real_output'] != big_df['bottom_reconstructed_query_0.2_result']\n",
    "print(differences.sum()/len(differences))"
   ],
   "id": "864ecdc676891e34",
   "outputs": [
    {
     "name": "stdout",
     "output_type": "stream",
     "text": [
      "0.07142857142857142\n"
     ]
    }
   ],
   "execution_count": 11
  },
  {
   "metadata": {
    "ExecuteTime": {
     "end_time": "2024-09-25T14:00:39.833632Z",
     "start_time": "2024-09-24T17:52:10.347302Z"
    }
   },
   "cell_type": "code",
   "source": [
    "differences = big_df['real_output'] != big_df['top_reconstructed_query_0.2_result']\n",
    "print(differences.sum()/len(differences))"
   ],
   "id": "5745d3c81c71470c",
   "outputs": [
    {
     "name": "stdout",
     "output_type": "stream",
     "text": [
      "0.35714285714285715\n"
     ]
    }
   ],
   "execution_count": 12
  },
  {
   "metadata": {},
   "cell_type": "code",
   "source": "",
   "id": "91d05f29c1cc0691",
   "outputs": [],
   "execution_count": null
  },
  {
   "metadata": {
    "ExecuteTime": {
     "end_time": "2024-09-25T14:15:43.802348Z",
     "start_time": "2024-09-25T14:15:43.783797Z"
    }
   },
   "cell_type": "code",
   "source": [
    "differences = big_df['real_output'] != big_df['bottom_reconstructed_instruction_0.2_result']\n",
    "print(differences.sum()/len(differences))"
   ],
   "id": "1ba31c43152ff3f6",
   "outputs": [
    {
     "name": "stdout",
     "output_type": "stream",
     "text": [
      "0.030612244897959183\n"
     ]
    }
   ],
   "execution_count": 11
  },
  {
   "metadata": {
    "ExecuteTime": {
     "end_time": "2024-09-25T14:00:39.835534Z",
     "start_time": "2024-09-24T17:53:26.297777Z"
    }
   },
   "cell_type": "code",
   "source": [
    "differences = big_df['real_output'] != big_df['top_reconstructed_instruction_0.2_result']\n",
    "print(differences.sum()/len(differences))"
   ],
   "id": "9038b6db8146f6ea",
   "outputs": [
    {
     "name": "stdout",
     "output_type": "stream",
     "text": [
      "1.0\n"
     ]
    }
   ],
   "execution_count": 14
  },
  {
   "metadata": {
    "ExecuteTime": {
     "end_time": "2024-09-25T14:00:39.837522Z",
     "start_time": "2024-09-24T17:53:33.076169Z"
    }
   },
   "cell_type": "code",
   "source": "print(big_df['instruction_weight'].mean())",
   "id": "39d5e3fea00d7c55",
   "outputs": [
    {
     "name": "stdout",
     "output_type": "stream",
     "text": [
      "0.8787098084681545\n"
     ]
    }
   ],
   "execution_count": 15
  },
  {
   "metadata": {
    "ExecuteTime": {
     "end_time": "2024-09-25T14:00:39.838216Z",
     "start_time": "2024-09-24T17:53:34.665415Z"
    }
   },
   "cell_type": "code",
   "source": "print(big_df['query_weight'].mean())",
   "id": "6921c49d60e64cba",
   "outputs": [
    {
     "name": "stdout",
     "output_type": "stream",
     "text": [
      "0.12129019153184557\n"
     ]
    }
   ],
   "execution_count": 16
  },
  {
   "metadata": {
    "ExecuteTime": {
     "end_time": "2024-09-25T14:15:49.186337Z",
     "start_time": "2024-09-25T14:15:49.178249Z"
    }
   },
   "cell_type": "code",
   "source": "print(big_df['exec_time'].mean())",
   "id": "b4dbeae654d5b86b",
   "outputs": [
    {
     "name": "stdout",
     "output_type": "stream",
     "text": [
      "17.86105881661785\n"
     ]
    }
   ],
   "execution_count": 12
  },
  {
   "metadata": {
    "ExecuteTime": {
     "end_time": "2024-09-25T14:15:59.968823Z",
     "start_time": "2024-09-25T14:15:59.964244Z"
    }
   },
   "cell_type": "code",
   "source": "print(big_df['input_cost'].mean())",
   "id": "c23afaaa0cc2bfb1",
   "outputs": [
    {
     "name": "stdout",
     "output_type": "stream",
     "text": [
      "1426.1836734693877\n"
     ]
    }
   ],
   "execution_count": 13
  },
  {
   "metadata": {
    "ExecuteTime": {
     "end_time": "2024-09-25T14:16:01.699944Z",
     "start_time": "2024-09-25T14:16:01.691636Z"
    }
   },
   "cell_type": "code",
   "source": "print(big_df['output_cost'].mean())\n",
   "id": "a2e64a60b0a9055f",
   "outputs": [
    {
     "name": "stdout",
     "output_type": "stream",
     "text": [
      "154.48979591836735\n"
     ]
    }
   ],
   "execution_count": 14
  },
  {
   "metadata": {
    "ExecuteTime": {
     "end_time": "2024-09-25T14:16:03.317001Z",
     "start_time": "2024-09-25T14:16:03.312234Z"
    }
   },
   "cell_type": "code",
   "source": "print(big_df['total_cost'].mean())\n",
   "id": "1c6233caab1f6d41",
   "outputs": [
    {
     "name": "stdout",
     "output_type": "stream",
     "text": [
      "1580.6734693877552\n"
     ]
    }
   ],
   "execution_count": 15
  }
 ],
 "metadata": {
  "kernelspec": {
   "display_name": "Python 3",
   "language": "python",
   "name": "python3"
  },
  "language_info": {
   "codemirror_mode": {
    "name": "ipython",
    "version": 2
   },
   "file_extension": ".py",
   "mimetype": "text/x-python",
   "name": "python",
   "nbconvert_exporter": "python",
   "pygments_lexer": "ipython2",
   "version": "2.7.6"
  }
 },
 "nbformat": 4,
 "nbformat_minor": 5
}
