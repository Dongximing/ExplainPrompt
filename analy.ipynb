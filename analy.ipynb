{
 "cells": [
  {
   "cell_type": "code",
   "id": "initial_id",
   "metadata": {
    "collapsed": true,
    "ExecuteTime": {
     "end_time": "2024-09-25T14:15:37.920978Z",
     "start_time": "2024-09-25T14:15:37.754308Z"
    }
   },
   "source": [
    "import pandas as pd\n",
    "import os\n",
    "\n",
    "\n",
    "def load_and_combine_pkl_files(directory_path):\n",
    "    # List to hold all the dataframes\n",
    "    dataframes = []\n",
    "\n",
    "    # Loop through all the files in the specified directory\n",
    "    for filename in os.listdir(directory_path):\n",
    "        if filename.endswith('discretize_perturbed_inferenced_df.pkl'):\n",
    "            # Construct full file path\n",
    "            file_path = os.path.join(directory_path, filename)\n",
    "            # Load the dataframe from a pkl file\n",
    "            df = pd.read_pickle(file_path)\n",
    "            # Append the dataframe to the list\n",
    "            dataframes.append(df)\n",
    "\n",
    "    # Concatenate all dataframes into one big dataframe\n",
    "    big_df = pd.concat(dataframes, ignore_index=True)\n",
    "\n",
    "    return big_df\n",
    "\n",
    "\n",
    "# Usage\n",
    "directory_path = '/Users/ximing/Desktop/Explainprompt'\n",
    "big_df = load_and_combine_pkl_files(directory_path)\n",
    "big_df = big_df\n",
    "print(big_df)\n"
   ],
   "outputs": [
    {
     "name": "stdout",
     "output_type": "stream",
     "text": [
      "                                               prompt real_output  \\\n",
      "0   it is notable for its stylistic austerity and ...  ^POSITIVE^   \n",
      "1   is never especially clever and often is rather...  ^NEGATIVE^   \n",
      "2   he 's a charismatic charmer likely to seduce a...  ^POSITIVE^   \n",
      "3   does n't become smug or sanctimonious towards ...  ^POSITIVE^   \n",
      "4   do little to salvage this filmmaker 's flailin...  ^NEGATIVE^   \n",
      "..                                                ...         ...   \n",
      "93  infuses the movie with much of its slender , g...  ^POSITIVE^   \n",
      "94  , stuart little 2 is a light , fun cheese puff...  ^POSITIVE^   \n",
      "95  , featuring an oscar-worthy performance by jul...  ^POSITIVE^   \n",
      "96  gets an exhilarating new interpretation in mor...  ^POSITIVE^   \n",
      "97  gets over its own investment in conventional a...  ^POSITIVE^   \n",
      "\n",
      "                                          token_level  \\\n",
      "0   {'tokens': [{'token': 'it', 'type': 'input', '...   \n",
      "1   {'tokens': [{'token': 'is', 'type': 'input', '...   \n",
      "2   {'tokens': [{'token': 'he', 'type': 'input', '...   \n",
      "3   {'tokens': [{'token': 'does', 'type': 'input',...   \n",
      "4   {'tokens': [{'token': 'do', 'type': 'input', '...   \n",
      "..                                                ...   \n",
      "93  {'tokens': [{'token': 'inf', 'type': 'input', ...   \n",
      "94  {'tokens': [{'token': ',', 'type': 'input', 'v...   \n",
      "95  {'tokens': [{'token': ',', 'type': 'input', 'v...   \n",
      "96  {'tokens': [{'token': 'gets', 'type': 'input',...   \n",
      "97  {'tokens': [{'token': 'gets', 'type': 'input',...   \n",
      "\n",
      "                                           word_level  label  \\\n",
      "0   {'tokens': [{'token': 'it', 'type': 'input', '...      1   \n",
      "1   {'tokens': [{'token': 'is', 'type': 'input', '...      0   \n",
      "2   {'tokens': [{'token': 'he', 'type': 'input', '...      1   \n",
      "3   {'tokens': [{'token': 'does', 'type': 'input',...      1   \n",
      "4   {'tokens': [{'token': 'do', 'type': 'input', '...      0   \n",
      "..                                                ...    ...   \n",
      "93  {'tokens': [{'token': 'infuses', 'type': 'inpu...      1   \n",
      "94  {'tokens': [{'token': ',', 'type': 'input', 'v...      1   \n",
      "95  {'tokens': [{'token': ',', 'type': 'input', 'v...      1   \n",
      "96  {'tokens': [{'token': 'gets', 'type': 'input',...      1   \n",
      "97  {'tokens': [{'token': 'gets', 'type': 'input',...      1   \n",
      "\n",
      "                                      component_level  \\\n",
      "0   ({'instruction': 1.0, 'query': 0.0}, {'instruc...   \n",
      "1   ({'instruction': 1.0, 'query': 0.0}, {'instruc...   \n",
      "2   ({'instruction': 1.0, 'query': 0.0}, {'instruc...   \n",
      "3   ({'instruction': 0.33333333333333337, 'query':...   \n",
      "4   ({'instruction': 0.19999999999999998, 'query':...   \n",
      "..                                                ...   \n",
      "93  ({'instruction': 1.0, 'query': 0.0}, {'instruc...   \n",
      "94  ({'instruction': 1.0, 'query': 0.0}, {'instruc...   \n",
      "95  ({'instruction': 1.0, 'query': 0.0}, {'instruc...   \n",
      "96  ({'instruction': 1.0, 'query': 0.0}, {'instruc...   \n",
      "97  ({'instruction': 0.6875, 'query': 0.3125}, {'i...   \n",
      "\n",
      "                                          instruction  \\\n",
      "0   Analyze the sentiment of the previous sentence...   \n",
      "1   Analyze the sentiment of the previous sentence...   \n",
      "2   Analyze the sentiment of the previous sentence...   \n",
      "3   Analyze the sentiment of the previous sentence...   \n",
      "4   Analyze the sentiment of the previous sentence...   \n",
      "..                                                ...   \n",
      "93  Analyze the sentiment of the previous sentence...   \n",
      "94  Analyze the sentiment of the previous sentence...   \n",
      "95  Analyze the sentiment of the previous sentence...   \n",
      "96  Analyze the sentiment of the previous sentence...   \n",
      "97  Analyze the sentiment of the previous sentence...   \n",
      "\n",
      "                                                query  \\\n",
      "0   it is notable for its stylistic austerity and ...   \n",
      "1   is never especially clever and often is rather...   \n",
      "2   he 's a charismatic charmer likely to seduce a...   \n",
      "3   does n't become smug or sanctimonious towards ...   \n",
      "4   do little to salvage this filmmaker 's flailin...   \n",
      "..                                                ...   \n",
      "93  infuses the movie with much of its slender , g...   \n",
      "94  , stuart little 2 is a light , fun cheese puff...   \n",
      "95  , featuring an oscar-worthy performance by jul...   \n",
      "96  gets an exhilarating new interpretation in mor...   \n",
      "97  gets over its own investment in conventional a...   \n",
      "\n",
      "                                      component_range  instruction_weight  \\\n",
      "0   {'instruction': [9, 10, 11, 12, 13, 14, 15, 16...            1.000000   \n",
      "1   {'instruction': [9, 10, 11, 12, 13, 14, 15, 16...            1.000000   \n",
      "2   {'instruction': [11, 12, 13, 14, 15, 16, 17, 1...            1.000000   \n",
      "3   {'instruction': [9, 10, 11, 12, 13, 14, 15, 16...            0.333333   \n",
      "4   {'instruction': [9, 10, 11, 12, 13, 14, 15, 16...            0.200000   \n",
      "..                                                ...                 ...   \n",
      "93  {'instruction': [11, 12, 13, 14, 15, 16, 17, 1...            1.000000   \n",
      "94  {'instruction': [15, 16, 17, 18, 19, 20, 21, 2...            1.000000   \n",
      "95  {'instruction': [9, 10, 11, 12, 13, 14, 15, 16...            1.000000   \n",
      "96  {'instruction': [9, 10, 11, 12, 13, 14, 15, 16...            1.000000   \n",
      "97  {'instruction': [9, 10, 11, 12, 13, 14, 15, 16...            0.687500   \n",
      "\n",
      "    ...                       query_token_top_0.2_peturbed  \\\n",
      "0   ...  [{'token': 'nuciferous', 'type': 'input', 'val...   \n",
      "1   ...  [{'token': 'impale', 'type': 'input', 'value':...   \n",
      "2   ...  [{'token': 'phototopography', 'type': 'input',...   \n",
      "3   ...  [{'token': 'ball', 'type': 'input', 'value': 0...   \n",
      "4   ...  [{'token': 'do', 'type': 'input', 'value': 0.0...   \n",
      "..  ...                                                ...   \n",
      "93  ...  [{'token': 'televiewer', 'type': 'input', 'val...   \n",
      "94  ...  [{'token': 'nongentile', 'type': 'input', 'val...   \n",
      "95  ...  [{'token': 'Lyrid', 'type': 'input', 'value': ...   \n",
      "96  ...  [{'token': 'enmuffle', 'type': 'input', 'value...   \n",
      "97  ...  [{'token': 'pearlfruit', 'type': 'input', 'val...   \n",
      "\n",
      "                      query_token_bottom_0.2_peturbed  \\\n",
      "0   [{'token': 'it', 'type': 'input', 'value': 0.0...   \n",
      "1   [{'token': 'is', 'type': 'input', 'value': 0.0...   \n",
      "2   [{'token': 'he', 'type': 'input', 'value': 0.0...   \n",
      "3   [{'token': 'does', 'type': 'input', 'value': 0...   \n",
      "4   [{'token': 'do', 'type': 'input', 'value': 0.0...   \n",
      "..                                                ...   \n",
      "93  [{'token': 'infuses', 'type': 'input', 'value'...   \n",
      "94  [{'token': ',', 'type': 'input', 'value': 0.0,...   \n",
      "95  [{'token': ',', 'type': 'input', 'value': 0.0,...   \n",
      "96  [{'token': 'gets', 'type': 'input', 'value': 0...   \n",
      "97  [{'token': 'gets', 'type': 'input', 'value': 0...   \n",
      "\n",
      "                    top_reconstructed_instruction_0.2  \\\n",
      "0   it is notable for its stylistic austerity and ...   \n",
      "1   is never especially clever and often is rather...   \n",
      "2   he 's a charismatic charmer likely to seduce a...   \n",
      "3   does n't become smug or sanctimonious towards ...   \n",
      "4   do little to salvage this filmmaker 's flailin...   \n",
      "..                                                ...   \n",
      "93  infuses the movie with much of its slender , g...   \n",
      "94  , stuart little 2 is a light , fun cheese puff...   \n",
      "95  , featuring an oscar-worthy performance by jul...   \n",
      "96  gets an exhilarating new interpretation in mor...   \n",
      "97  gets over its own investment in conventional a...   \n",
      "\n",
      "                          top_reconstructed_query_0.2  \\\n",
      "0   nuciferous is notable for its stylistic auster...   \n",
      "1   impale never especially clever and often is ra...   \n",
      "2   phototopography wilter a charismatic charmer l...   \n",
      "3   ball n't become smug or sanctimonious towards ...   \n",
      "4   do overaccuracy to salvage this filmmaker 's f...   \n",
      "..                                                ...   \n",
      "93  televiewer mercaptol movie with much of its sl...   \n",
      "94  nongentile Moi protosyntonose 2 is a light , f...   \n",
      "95  Lyrid featuring an oscar-worthy performance by...   \n",
      "96  enmuffle an exhilarating new interpretation in...   \n",
      "97  pearlfruit over its own investment in conventi...   \n",
      "\n",
      "                 bottom_reconstructed_instruction_0.2  \\\n",
      "0   it is notable for its stylistic austerity and ...   \n",
      "1   is never especially clever and often is rather...   \n",
      "2   he 's a charismatic charmer likely to seduce a...   \n",
      "3   does n't become smug or sanctimonious towards ...   \n",
      "4   do little to salvage this filmmaker 's flailin...   \n",
      "..                                                ...   \n",
      "93  infuses the movie with much of its slender , g...   \n",
      "94  , stuart little 2 is a light , fun cheese puff...   \n",
      "95  , featuring an oscar-worthy performance by jul...   \n",
      "96  gets an exhilarating new interpretation in mor...   \n",
      "97  gets over its own investment in conventional a...   \n",
      "\n",
      "                       bottom_reconstructed_query_0.2  \\\n",
      "0   it is notable for its stylistic austerity and ...   \n",
      "1   is never especially clever and often is rather...   \n",
      "2   he 's a charismatic charmer likely to seduce a...   \n",
      "3   does n't become smug or sanctimonious towards ...   \n",
      "4   do little to salvage this filmmaker 's flailin...   \n",
      "..                                                ...   \n",
      "93  infuses the movie with much of its slender , p...   \n",
      "94  , stuart little 2 is a light , fun cheese puff...   \n",
      "95  , featuring an oscar-worthy performance by jul...   \n",
      "96  gets an exhilarating new interpretation in mor...   \n",
      "97  gets over its own investment in upstartle arra...   \n",
      "\n",
      "             top_reconstructed_instruction_0.2_result  \\\n",
      "0                                          ^NEGATIVE^   \n",
      "1                                          ^POSITIVE^   \n",
      "2   I am not impressed by his charm or seductive t...   \n",
      "3                                          ^NEGATIVE^   \n",
      "4                                            POSITIVE   \n",
      "..                                                ...   \n",
      "93                                         ^NEGATIVE^   \n",
      "94                                         ^NEGATIVE^   \n",
      "95                                         ^NEGATIVE^   \n",
      "96                                         ^NEGATIVE^   \n",
      "97                                    devitrification   \n",
      "\n",
      "   top_reconstructed_query_0.2_result  \\\n",
      "0                          ^POSITIVE^   \n",
      "1                          ^NEGATIVE^   \n",
      "2                          ^POSITIVE^   \n",
      "3                          ^NEGATIVE^   \n",
      "4                          ^POSITIVE^   \n",
      "..                                ...   \n",
      "93                         ^POSITIVE^   \n",
      "94                         ^POSITIVE^   \n",
      "95                         ^POSITIVE^   \n",
      "96                         ^POSITIVE^   \n",
      "97                         ^NEGATIVE^   \n",
      "\n",
      "   bottom_reconstructed_instruction_0.2_result  \\\n",
      "0                                   ^POSITIVE^   \n",
      "1                                   ^NEGATIVE^   \n",
      "2                                   ^POSITIVE^   \n",
      "3                                   ^POSITIVE^   \n",
      "4                                   ^NEGATIVE^   \n",
      "..                                         ...   \n",
      "93                                  ^POSITIVE^   \n",
      "94                                  ^POSITIVE^   \n",
      "95                                  ^POSITIVE^   \n",
      "96                                  ^POSITIVE^   \n",
      "97                                  ^NEGATIVE^   \n",
      "\n",
      "   bottom_reconstructed_query_0.2_result  \n",
      "0                             ^POSITIVE^  \n",
      "1                             ^NEGATIVE^  \n",
      "2                             ^POSITIVE^  \n",
      "3                             ^POSITIVE^  \n",
      "4                             ^NEGATIVE^  \n",
      "..                                   ...  \n",
      "93                            ^POSITIVE^  \n",
      "94                            ^POSITIVE^  \n",
      "95                            ^POSITIVE^  \n",
      "96                            ^POSITIVE^  \n",
      "97                            ^NEGATIVE^  \n",
      "\n",
      "[98 rows x 29 columns]\n"
     ]
    }
   ],
   "execution_count": 10
  },
  {
   "metadata": {
    "ExecuteTime": {
     "end_time": "2024-09-25T14:02:05.560533Z",
     "start_time": "2024-09-25T14:02:05.553722Z"
    }
   },
   "cell_type": "code",
   "source": "print(big_df.columns)",
   "id": "245a45e8399d08b2",
   "outputs": [
    {
     "name": "stdout",
     "output_type": "stream",
     "text": [
      "Index(['prompt', 'real_output', 'token_level', 'word_level', 'label',\n",
      "       'component_level', 'instruction', 'query', 'component_range',\n",
      "       'instruction_weight', 'query_weight', 'exec_time', 'input_cost',\n",
      "       'output_cost', 'total_cost', 'instructions_tokens', 'query_tokens',\n",
      "       'instruction_token_top_0.2_peturbed',\n",
      "       'instruction_token_bottom_0.2_peturbed', 'query_token_top_0.2_peturbed',\n",
      "       'query_token_bottom_0.2_peturbed', 'top_reconstructed_instruction_0.2',\n",
      "       'top_reconstructed_query_0.2', 'bottom_reconstructed_instruction_0.2',\n",
      "       'bottom_reconstructed_query_0.2',\n",
      "       'top_reconstructed_instruction_0.2_result',\n",
      "       'top_reconstructed_query_0.2_result',\n",
      "       'bottom_reconstructed_instruction_0.2_result',\n",
      "       'bottom_reconstructed_query_0.2_result'],\n",
      "      dtype='object')\n"
     ]
    }
   ],
   "execution_count": 3
  },
  {
   "metadata": {},
   "cell_type": "code",
   "source": "print(big_df.iloc[4]['word_level'])",
   "id": "1f40caaa06320c4e",
   "outputs": [],
   "execution_count": null
  },
  {
   "metadata": {},
   "cell_type": "code",
   "source": "print(big_df['bottom_reconstructed_query_0.2_result'][:20])\n",
   "id": "9235a358387f836e",
   "outputs": [],
   "execution_count": null
  },
  {
   "metadata": {
    "ExecuteTime": {
     "end_time": "2024-09-25T14:00:39.832484Z",
     "start_time": "2024-09-24T17:52:08.148851Z"
    }
   },
   "cell_type": "code",
   "source": [
    "differences = big_df['real_output'] != big_df['bottom_reconstructed_query_0.2_result']\n",
    "print(differences.sum()/len(differences))"
   ],
   "id": "864ecdc676891e34",
   "outputs": [
    {
     "name": "stdout",
     "output_type": "stream",
     "text": [
      "0.07142857142857142\n"
     ]
    }
   ],
   "execution_count": 11
  },
  {
   "metadata": {
    "ExecuteTime": {
     "end_time": "2024-09-25T14:00:39.833632Z",
     "start_time": "2024-09-24T17:52:10.347302Z"
    }
   },
   "cell_type": "code",
   "source": [
    "differences = big_df['real_output'] != big_df['top_reconstructed_query_0.2_result']\n",
    "print(differences.sum()/len(differences))"
   ],
   "id": "5745d3c81c71470c",
   "outputs": [
    {
     "name": "stdout",
     "output_type": "stream",
     "text": [
      "0.35714285714285715\n"
     ]
    }
   ],
   "execution_count": 12
  },
  {
   "metadata": {},
   "cell_type": "code",
   "source": "",
   "id": "91d05f29c1cc0691",
   "outputs": [],
   "execution_count": null
  },
  {
   "metadata": {
    "ExecuteTime": {
     "end_time": "2024-09-25T14:15:43.802348Z",
     "start_time": "2024-09-25T14:15:43.783797Z"
    }
   },
   "cell_type": "code",
   "source": [
    "differences = big_df['real_output'] != big_df['bottom_reconstructed_instruction_0.2_result']\n",
    "print(differences.sum()/len(differences))"
   ],
   "id": "1ba31c43152ff3f6",
   "outputs": [
    {
     "name": "stdout",
     "output_type": "stream",
     "text": [
      "0.030612244897959183\n"
     ]
    }
   ],
   "execution_count": 11
  },
  {
   "metadata": {
    "ExecuteTime": {
     "end_time": "2024-09-25T14:00:39.835534Z",
     "start_time": "2024-09-24T17:53:26.297777Z"
    }
   },
   "cell_type": "code",
   "source": [
    "differences = big_df['real_output'] != big_df['top_reconstructed_instruction_0.2_result']\n",
    "print(differences.sum()/len(differences))"
   ],
   "id": "9038b6db8146f6ea",
   "outputs": [
    {
     "name": "stdout",
     "output_type": "stream",
     "text": [
      "1.0\n"
     ]
    }
   ],
   "execution_count": 14
  },
  {
   "metadata": {
    "ExecuteTime": {
     "end_time": "2024-09-25T14:00:39.837522Z",
     "start_time": "2024-09-24T17:53:33.076169Z"
    }
   },
   "cell_type": "code",
   "source": "print(big_df['instruction_weight'].mean())",
   "id": "39d5e3fea00d7c55",
   "outputs": [
    {
     "name": "stdout",
     "output_type": "stream",
     "text": [
      "0.8787098084681545\n"
     ]
    }
   ],
   "execution_count": 15
  },
  {
   "metadata": {
    "ExecuteTime": {
     "end_time": "2024-09-25T14:00:39.838216Z",
     "start_time": "2024-09-24T17:53:34.665415Z"
    }
   },
   "cell_type": "code",
   "source": "print(big_df['query_weight'].mean())",
   "id": "6921c49d60e64cba",
   "outputs": [
    {
     "name": "stdout",
     "output_type": "stream",
     "text": [
      "0.12129019153184557\n"
     ]
    }
   ],
   "execution_count": 16
  },
  {
   "metadata": {
    "ExecuteTime": {
     "end_time": "2024-09-25T14:15:49.186337Z",
     "start_time": "2024-09-25T14:15:49.178249Z"
    }
   },
   "cell_type": "code",
   "source": "print(big_df['exec_time'].mean())",
   "id": "b4dbeae654d5b86b",
   "outputs": [
    {
     "name": "stdout",
     "output_type": "stream",
     "text": [
      "17.86105881661785\n"
     ]
    }
   ],
   "execution_count": 12
  },
  {
   "metadata": {
    "ExecuteTime": {
     "end_time": "2024-09-25T14:15:59.968823Z",
     "start_time": "2024-09-25T14:15:59.964244Z"
    }
   },
   "cell_type": "code",
   "source": "print(big_df['input_cost'].mean())",
   "id": "c23afaaa0cc2bfb1",
   "outputs": [
    {
     "name": "stdout",
     "output_type": "stream",
     "text": [
      "1426.1836734693877\n"
     ]
    }
   ],
   "execution_count": 13
  },
  {
   "metadata": {
    "ExecuteTime": {
     "end_time": "2024-09-25T14:16:01.699944Z",
     "start_time": "2024-09-25T14:16:01.691636Z"
    }
   },
   "cell_type": "code",
   "source": "print(big_df['output_cost'].mean())\n",
   "id": "a2e64a60b0a9055f",
   "outputs": [
    {
     "name": "stdout",
     "output_type": "stream",
     "text": [
      "154.48979591836735\n"
     ]
    }
   ],
   "execution_count": 14
  },
  {
   "metadata": {
    "ExecuteTime": {
     "end_time": "2024-09-25T14:16:03.317001Z",
     "start_time": "2024-09-25T14:16:03.312234Z"
    }
   },
   "cell_type": "code",
   "source": "print(big_df['total_cost'].mean())\n",
   "id": "1c6233caab1f6d41",
   "outputs": [
    {
     "name": "stdout",
     "output_type": "stream",
     "text": [
      "1580.6734693877552\n"
     ]
    }
   ],
   "execution_count": 15
  }
 ],
 "metadata": {
  "kernelspec": {
   "display_name": "Python 3",
   "language": "python",
   "name": "python3"
  },
  "language_info": {
   "codemirror_mode": {
    "name": "ipython",
    "version": 2
   },
   "file_extension": ".py",
   "mimetype": "text/x-python",
   "name": "python",
   "nbconvert_exporter": "python",
   "pygments_lexer": "ipython2",
   "version": "2.7.6"
  }
 },
 "nbformat": 4,
 "nbformat_minor": 5
}
