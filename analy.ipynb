{
 "cells": [
  {
   "cell_type": "code",
   "id": "initial_id",
   "metadata": {
    "collapsed": true,
    "ExecuteTime": {
     "end_time": "2024-09-24T17:51:57.150438Z",
     "start_time": "2024-09-24T17:51:56.587177Z"
    }
   },
   "source": [
    "import pandas as pd\n",
    "import os\n",
    "\n",
    "\n",
    "def load_and_combine_pkl_files(directory_path):\n",
    "    # List to hold all the dataframes\n",
    "    dataframes = []\n",
    "\n",
    "    # Loop through all the files in the specified directory\n",
    "    for filename in os.listdir(directory_path):\n",
    "        if filename.endswith('similarity_perturbed_inferenced_df.pkl'):\n",
    "            # Construct full file path\n",
    "            file_path = os.path.join(directory_path, filename)\n",
    "            # Load the dataframe from a pkl file\n",
    "            df = pd.read_pickle(file_path)\n",
    "            # Append the dataframe to the list\n",
    "            dataframes.append(df)\n",
    "\n",
    "    # Concatenate all dataframes into one big dataframe\n",
    "    big_df = pd.concat(dataframes, ignore_index=True)\n",
    "\n",
    "    return big_df\n",
    "\n",
    "\n",
    "# Usage\n",
    "directory_path = '/Users/ximing/Desktop/Explainprompt'\n",
    "big_df = load_and_combine_pkl_files(directory_path)\n",
    "big_df = big_df\n",
    "print(big_df)\n"
   ],
   "outputs": [
    {
     "name": "stdout",
     "output_type": "stream",
     "text": [
      "                                               prompt real_output  \\\n",
      "0   the refugees able to look ahead and resist liv...  ^POSITIVE^   \n",
      "1   puts the dutiful efforts of more disciplined g...  ^POSITIVE^   \n",
      "2   big stars and high production values are stand...  ^POSITIVE^   \n",
      "3   it 's funny , as the old saying goes , because...  ^POSITIVE^   \n",
      "4   i 've seen in a while , a meander through worn...  ^NEGATIVE^   \n",
      "..                                                ...         ...   \n",
      "93  you watch them clumsily mugging their way thro...  ^NEGATIVE^   \n",
      "94  it desperately wants to be a wacky , screwball...  ^NEGATIVE^   \n",
      "95  gets vivid , convincing performances from a fi...  ^POSITIVE^   \n",
      "96  directed with sensitivity and skill by dana ja...  ^POSITIVE^   \n",
      "97  of nostalgic comments from the now middle-aged...  ^POSITIVE^   \n",
      "\n",
      "                                          token_level  \\\n",
      "0   {'tokens': [{'token': 'the', 'type': 'input', ...   \n",
      "1   {'tokens': [{'token': 'puts', 'type': 'input',...   \n",
      "2   {'tokens': [{'token': 'big', 'type': 'input', ...   \n",
      "3   {'tokens': [{'token': 'it', 'type': 'input', '...   \n",
      "4   {'tokens': [{'token': 'i', 'type': 'input', 'v...   \n",
      "..                                                ...   \n",
      "93  {'tokens': [{'token': 'you', 'type': 'input', ...   \n",
      "94  {'tokens': [{'token': 'it', 'type': 'input', '...   \n",
      "95  {'tokens': [{'token': 'gets', 'type': 'input',...   \n",
      "96  {'tokens': [{'token': 'direct', 'type': 'input...   \n",
      "97  {'tokens': [{'token': 'of', 'type': 'input', '...   \n",
      "\n",
      "                                           word_level  label  \\\n",
      "0   {'tokens': [{'token': 'the', 'type': 'input', ...      1   \n",
      "1   {'tokens': [{'token': 'puts', 'type': 'input',...      1   \n",
      "2   {'tokens': [{'token': 'big', 'type': 'input', ...      1   \n",
      "3   {'tokens': [{'token': 'it', 'type': 'input', '...      1   \n",
      "4   {'tokens': [{'token': 'i', 'type': 'input', 'v...      0   \n",
      "..                                                ...    ...   \n",
      "93  {'tokens': [{'token': 'you', 'type': 'input', ...      0   \n",
      "94  {'tokens': [{'token': 'it', 'type': 'input', '...      0   \n",
      "95  {'tokens': [{'token': 'gets', 'type': 'input',...      1   \n",
      "96  {'tokens': [{'token': 'directed', 'type': 'inp...      1   \n",
      "97  {'tokens': [{'token': 'of', 'type': 'input', '...      1   \n",
      "\n",
      "                                      component_level  \\\n",
      "0   ({'instruction': 0.9999991970995282, 'query': ...   \n",
      "1   ({'instruction': 0.45591028689336077, 'query':...   \n",
      "2   ({'instruction': 0.9999968402065005, 'query': ...   \n",
      "3   ({'instruction': 0.9999999999999845, 'query': ...   \n",
      "4   ({'instruction': 0.44636254951809207, 'query':...   \n",
      "..                                                ...   \n",
      "93  ({'instruction': 0.5204778158156448, 'query': ...   \n",
      "94  ({'instruction': 1.0, 'query': 0.0}, {'instruc...   \n",
      "95  ({'instruction': 0.9999991970989798, 'query': ...   \n",
      "96  ({'instruction': 0.9999999999999954, 'query': ...   \n",
      "97  ({'instruction': 0.9999890693342414, 'query': ...   \n",
      "\n",
      "                                          instruction  \\\n",
      "0   Analyze the sentiment of the previous sentence...   \n",
      "1   Analyze the sentiment of the previous sentence...   \n",
      "2   Analyze the sentiment of the previous sentence...   \n",
      "3   Analyze the sentiment of the previous sentence...   \n",
      "4   Analyze the sentiment of the previous sentence...   \n",
      "..                                                ...   \n",
      "93  Analyze the sentiment of the previous sentence...   \n",
      "94  Analyze the sentiment of the previous sentence...   \n",
      "95  Analyze the sentiment of the previous sentence...   \n",
      "96  Analyze the sentiment of the previous sentence...   \n",
      "97  Analyze the sentiment of the previous sentence...   \n",
      "\n",
      "                                                query  \\\n",
      "0   the refugees able to look ahead and resist liv...   \n",
      "1   puts the dutiful efforts of more disciplined g...   \n",
      "2   big stars and high production values are stand...   \n",
      "3   it 's funny , as the old saying goes , because...   \n",
      "4   i 've seen in a while , a meander through worn...   \n",
      "..                                                ...   \n",
      "93  you watch them clumsily mugging their way thro...   \n",
      "94  it desperately wants to be a wacky , screwball...   \n",
      "95  gets vivid , convincing performances from a fi...   \n",
      "96  directed with sensitivity and skill by dana ja...   \n",
      "97  of nostalgic comments from the now middle-aged...   \n",
      "\n",
      "                                      component_range  instruction_weight  \\\n",
      "0   {'instruction': [12, 13, 14, 15, 16, 17, 18, 1...            0.999999   \n",
      "1   {'instruction': [8, 9, 10, 11, 12, 13, 14, 15,...            0.455910   \n",
      "2   {'instruction': [9, 10, 11, 12, 13, 14, 15, 16...            0.999997   \n",
      "3   {'instruction': [15, 16, 17, 18, 19, 20, 21, 2...            1.000000   \n",
      "4   {'instruction': [12, 13, 14, 15, 16, 17, 18, 1...            0.446363   \n",
      "..                                                ...                 ...   \n",
      "93  {'instruction': [10, 11, 12, 13, 14, 15, 16, 1...            0.520478   \n",
      "94  {'instruction': [12, 13, 14, 15, 16, 17, 18, 1...            1.000000   \n",
      "95  {'instruction': [11, 12, 13, 14, 15, 16, 17, 1...            0.999999   \n",
      "96  {'instruction': [8, 9, 10, 11, 12, 13, 14, 15,...            1.000000   \n",
      "97  {'instruction': [8, 9, 10, 11, 12, 13, 14, 15,...            0.999989   \n",
      "\n",
      "    ...                       query_token_top_0.2_peturbed  \\\n",
      "0   ...  [{'token': 'lansknecht', 'type': 'input', 'val...   \n",
      "1   ...  [{'token': 'puts', 'type': 'input', 'value': 4...   \n",
      "2   ...  [{'token': 'big', 'type': 'input', 'value': 9....   \n",
      "3   ...  [{'token': 'acanthus', 'type': 'input', 'value...   \n",
      "4   ...  [{'token': 'i', 'type': 'input', 'value': 0.0,...   \n",
      "..  ...                                                ...   \n",
      "93  ...  [{'token': 'you', 'type': 'input', 'value': 0....   \n",
      "94  ...  [{'token': 'subassociation', 'type': 'input', ...   \n",
      "95  ...  [{'token': 'missileproof', 'type': 'input', 'v...   \n",
      "96  ...  [{'token': 'directed', 'type': 'input', 'value...   \n",
      "97  ...  [{'token': 'of', 'type': 'input', 'value': 1.2...   \n",
      "\n",
      "                      query_token_bottom_0.2_peturbed  \\\n",
      "0   [{'token': 'the', 'type': 'input', 'value': 3....   \n",
      "1   [{'token': 'puts', 'type': 'input', 'value': 4...   \n",
      "2   [{'token': 'big', 'type': 'input', 'value': 9....   \n",
      "3   [{'token': 'it', 'type': 'input', 'value': 9.1...   \n",
      "4   [{'token': 'i', 'type': 'input', 'value': 0.0,...   \n",
      "..                                                ...   \n",
      "93  [{'token': 'you', 'type': 'input', 'value': 0....   \n",
      "94  [{'token': 'it', 'type': 'input', 'value': 0.0...   \n",
      "95  [{'token': 'gets', 'type': 'input', 'value': 3...   \n",
      "96  [{'token': 'directed', 'type': 'input', 'value...   \n",
      "97  [{'token': 'of', 'type': 'input', 'value': 1.2...   \n",
      "\n",
      "                    top_reconstructed_instruction_0.2  \\\n",
      "0   the refugees able to look ahead and resist liv...   \n",
      "1   puts the dutiful efforts of more disciplined g...   \n",
      "2   big stars and high production values are stand...   \n",
      "3   it 's funny , as the old saying goes , because...   \n",
      "4   i 've seen in a while , a meander through worn...   \n",
      "..                                                ...   \n",
      "93  you watch them clumsily mugging their way thro...   \n",
      "94  it desperately wants to be a wacky , screwball...   \n",
      "95  gets vivid , convincing performances from a fi...   \n",
      "96  directed with sensitivity and skill by dana ja...   \n",
      "97  of nostalgic comments from the now middle-aged...   \n",
      "\n",
      "                          top_reconstructed_query_0.2  \\\n",
      "0   lansknecht refugees able to look ophthalmoleuc...   \n",
      "1   puts the frivolously efforts of more disciplin...   \n",
      "2   big stars and high production values rigorism ...   \n",
      "3   acanthus protopteridophyte funny , as the old ...   \n",
      "4   i reshare seen in a while , a meander through ...   \n",
      "..                                                ...   \n",
      "93  you watch them siliculous melibiose their way ...   \n",
      "94  subassociation overabstemious wants to be a wa...   \n",
      "95  missileproof vivid , convincing performances f...   \n",
      "96  directed with sensitivity and skill by dana no...   \n",
      "97  of nostalgic comments from the now hypoalkalin...   \n",
      "\n",
      "                 bottom_reconstructed_instruction_0.2  \\\n",
      "0   the refugees able to look ahead and resist liv...   \n",
      "1   puts the dutiful efforts of more disciplined g...   \n",
      "2   big stars and high production values are stand...   \n",
      "3   it 's funny , as the old saying goes , because...   \n",
      "4   i 've seen in a while , a meander through worn...   \n",
      "..                                                ...   \n",
      "93  you watch them clumsily mugging their way thro...   \n",
      "94  it desperately wants to be a wacky , screwball...   \n",
      "95  gets vivid , convincing performances from a fi...   \n",
      "96  directed with sensitivity and skill by dana ja...   \n",
      "97  of nostalgic comments from the now middle-aged...   \n",
      "\n",
      "                       bottom_reconstructed_query_0.2  \\\n",
      "0   the refugees able to look ahead and resist liv...   \n",
      "1   puts the dutiful efforts of more Nitrian grade...   \n",
      "2   big stars and high production values are stand...   \n",
      "3   it 's funny , as the old saying goes , because...   \n",
      "4   i 've seen in a while , colory meander setback...   \n",
      "..                                                ...   \n",
      "93  you watch them clumsily mugging tactus way thr...   \n",
      "94  it desperately wants to be a wacky , screwball...   \n",
      "95  gets vivid , convincing performances from a fi...   \n",
      "96  directed with sensitivity and skill icy dana j...   \n",
      "97  of nostalgic comments from the now middle-aged...   \n",
      "\n",
      "             top_reconstructed_instruction_0.2_result  \\\n",
      "0                                           bigeminum   \n",
      "1                           versatileness causativity   \n",
      "2   The sentiment of the sentence is positive, as ...   \n",
      "3   The sentiment of the previous sentence is humo...   \n",
      "4                                          ^POSITIVE^   \n",
      "..                                                ...   \n",
      "93                                        unvisitable   \n",
      "94  I'm sorry, I cannot provide a cubature or copr...   \n",
      "95                                        cardiospasm   \n",
      "96  I'm sorry, but I am not familiar with the term...   \n",
      "97                                                  ^   \n",
      "\n",
      "   top_reconstructed_query_0.2_result  \\\n",
      "0                          ^POSITIVE^   \n",
      "1                          ^NEGATIVE^   \n",
      "2                          ^POSITIVE^   \n",
      "3                          ^NEGATIVE^   \n",
      "4                          ^POSITIVE^   \n",
      "..                                ...   \n",
      "93                         ^POSITIVE^   \n",
      "94                         ^POSITIVE^   \n",
      "95                         ^POSITIVE^   \n",
      "96                         ^POSITIVE^   \n",
      "97                         ^POSITIVE^   \n",
      "\n",
      "          bottom_reconstructed_instruction_0.2_result  \\\n",
      "0                                          ^POSITIVE^   \n",
      "1                                          ^NEGATIVE^   \n",
      "2                                          ^POSITIVE^   \n",
      "3                                          ^POSITIVE^   \n",
      "4   ^NEGATIVE^ Your response is confusing and does...   \n",
      "..                                                ...   \n",
      "93                                         ^NEGATIVE^   \n",
      "94                                         ^NEGATIVE^   \n",
      "95                                         ^POSITIVE^   \n",
      "96                                         ^POSITIVE^   \n",
      "97                                         ^POSITIVE^   \n",
      "\n",
      "   bottom_reconstructed_query_0.2_result  \n",
      "0                             ^POSITIVE^  \n",
      "1                             ^POSITIVE^  \n",
      "2                             ^POSITIVE^  \n",
      "3                             ^POSITIVE^  \n",
      "4                             ^NEGATIVE^  \n",
      "..                                   ...  \n",
      "93                            ^NEGATIVE^  \n",
      "94                            ^NEGATIVE^  \n",
      "95                            ^POSITIVE^  \n",
      "96                            ^POSITIVE^  \n",
      "97                            ^POSITIVE^  \n",
      "\n",
      "[98 rows x 25 columns]\n"
     ]
    }
   ],
   "execution_count": 9
  },
  {
   "metadata": {
    "ExecuteTime": {
     "end_time": "2024-09-24T17:52:02.871764Z",
     "start_time": "2024-09-24T17:52:02.864943Z"
    }
   },
   "cell_type": "code",
   "source": "print(big_df.columns)",
   "id": "245a45e8399d08b2",
   "outputs": [
    {
     "name": "stdout",
     "output_type": "stream",
     "text": [
      "Index(['prompt', 'real_output', 'token_level', 'word_level', 'label',\n",
      "       'component_level', 'instruction', 'query', 'component_range',\n",
      "       'instruction_weight', 'query_weight', 'instructions_tokens',\n",
      "       'query_tokens', 'instruction_token_top_0.2_peturbed',\n",
      "       'instruction_token_bottom_0.2_peturbed', 'query_token_top_0.2_peturbed',\n",
      "       'query_token_bottom_0.2_peturbed', 'top_reconstructed_instruction_0.2',\n",
      "       'top_reconstructed_query_0.2', 'bottom_reconstructed_instruction_0.2',\n",
      "       'bottom_reconstructed_query_0.2',\n",
      "       'top_reconstructed_instruction_0.2_result',\n",
      "       'top_reconstructed_query_0.2_result',\n",
      "       'bottom_reconstructed_instruction_0.2_result',\n",
      "       'bottom_reconstructed_query_0.2_result'],\n",
      "      dtype='object')\n"
     ]
    }
   ],
   "execution_count": 10
  },
  {
   "metadata": {},
   "cell_type": "code",
   "source": "print(big_df.iloc[4]['word_level'])",
   "id": "1f40caaa06320c4e",
   "outputs": [],
   "execution_count": null
  },
  {
   "metadata": {},
   "cell_type": "code",
   "source": "print(big_df['bottom_reconstructed_query_0.2_result'][:20])\n",
   "id": "9235a358387f836e",
   "outputs": [],
   "execution_count": null
  },
  {
   "metadata": {
    "ExecuteTime": {
     "end_time": "2024-09-24T17:52:08.159007Z",
     "start_time": "2024-09-24T17:52:08.148851Z"
    }
   },
   "cell_type": "code",
   "source": [
    "differences = big_df['real_output'] != big_df['bottom_reconstructed_query_0.2_result']\n",
    "print(differences.sum()/len(differences))"
   ],
   "id": "864ecdc676891e34",
   "outputs": [
    {
     "name": "stdout",
     "output_type": "stream",
     "text": [
      "0.07142857142857142\n"
     ]
    }
   ],
   "execution_count": 11
  },
  {
   "metadata": {
    "ExecuteTime": {
     "end_time": "2024-09-24T17:52:10.352147Z",
     "start_time": "2024-09-24T17:52:10.347302Z"
    }
   },
   "cell_type": "code",
   "source": [
    "differences = big_df['real_output'] != big_df['top_reconstructed_query_0.2_result']\n",
    "print(differences.sum()/len(differences))"
   ],
   "id": "5745d3c81c71470c",
   "outputs": [
    {
     "name": "stdout",
     "output_type": "stream",
     "text": [
      "0.35714285714285715\n"
     ]
    }
   ],
   "execution_count": 12
  },
  {
   "metadata": {},
   "cell_type": "code",
   "source": "",
   "id": "91d05f29c1cc0691",
   "outputs": [],
   "execution_count": null
  },
  {
   "metadata": {
    "ExecuteTime": {
     "end_time": "2024-09-24T17:53:13.096288Z",
     "start_time": "2024-09-24T17:53:13.091462Z"
    }
   },
   "cell_type": "code",
   "source": [
    "differences = big_df['real_output'] != big_df['bottom_reconstructed_instruction_0.2_result']\n",
    "print(differences.sum()/len(differences))"
   ],
   "id": "1ba31c43152ff3f6",
   "outputs": [
    {
     "name": "stdout",
     "output_type": "stream",
     "text": [
      "0.09183673469387756\n"
     ]
    }
   ],
   "execution_count": 13
  },
  {
   "metadata": {
    "ExecuteTime": {
     "end_time": "2024-09-24T17:53:26.303823Z",
     "start_time": "2024-09-24T17:53:26.297777Z"
    }
   },
   "cell_type": "code",
   "source": [
    "differences = big_df['real_output'] != big_df['top_reconstructed_instruction_0.2_result']\n",
    "print(differences.sum()/len(differences))"
   ],
   "id": "9038b6db8146f6ea",
   "outputs": [
    {
     "name": "stdout",
     "output_type": "stream",
     "text": [
      "1.0\n"
     ]
    }
   ],
   "execution_count": 14
  },
  {
   "metadata": {
    "ExecuteTime": {
     "end_time": "2024-09-24T17:53:33.086225Z",
     "start_time": "2024-09-24T17:53:33.076169Z"
    }
   },
   "cell_type": "code",
   "source": "print(big_df['instruction_weight'].mean())",
   "id": "39d5e3fea00d7c55",
   "outputs": [
    {
     "name": "stdout",
     "output_type": "stream",
     "text": [
      "0.8787098084681545\n"
     ]
    }
   ],
   "execution_count": 15
  },
  {
   "metadata": {
    "ExecuteTime": {
     "end_time": "2024-09-24T17:53:34.671389Z",
     "start_time": "2024-09-24T17:53:34.665415Z"
    }
   },
   "cell_type": "code",
   "source": "print(big_df['query_weight'].mean())",
   "id": "6921c49d60e64cba",
   "outputs": [
    {
     "name": "stdout",
     "output_type": "stream",
     "text": [
      "0.12129019153184557\n"
     ]
    }
   ],
   "execution_count": 16
  },
  {
   "metadata": {},
   "cell_type": "code",
   "source": "",
   "id": "b4dbeae654d5b86b",
   "outputs": [],
   "execution_count": null
  }
 ],
 "metadata": {
  "kernelspec": {
   "display_name": "Python 3",
   "language": "python",
   "name": "python3"
  },
  "language_info": {
   "codemirror_mode": {
    "name": "ipython",
    "version": 2
   },
   "file_extension": ".py",
   "mimetype": "text/x-python",
   "name": "python",
   "nbconvert_exporter": "python",
   "pygments_lexer": "ipython2",
   "version": "2.7.6"
  }
 },
 "nbformat": 4,
 "nbformat_minor": 5
}
