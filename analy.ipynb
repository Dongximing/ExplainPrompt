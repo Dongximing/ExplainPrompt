{
 "cells": [
  {
   "cell_type": "code",
   "id": "initial_id",
   "metadata": {
    "collapsed": true,
    "ExecuteTime": {
     "end_time": "2024-10-03T20:44:15.090385Z",
     "start_time": "2024-10-03T20:44:12.782355Z"
    }
   },
   "source": [
    "import pandas as pd\n",
    "import os\n",
    "\n",
    "\n",
    "def load_and_combine_pkl_files(directory_path):\n",
    "    # List to hold all the dataframes\n",
    "    dataframes = []\n",
    "\n",
    "    # Loop through all the files in the specified directory\n",
    "    for filename in os.listdir(directory_path):\n",
    "        if filename.endswith(\".pkl\"):\n",
    "            # Construct full file path\n",
    "            file_path = os.path.join(directory_path, filename)\n",
    "            # Load the dataframe from a pkl file\n",
    "            df = pd.read_pickle(file_path)\n",
    "            # Append the dataframe to the list\n",
    "            dataframes.append(df)\n",
    "\n",
    "    # Concatenate all dataframes into one big dataframe\n",
    "    big_df = pd.concat(dataframes, ignore_index=True)\n",
    "\n",
    "    return big_df\n",
    "\n",
    "\n",
    "# Usage\n",
    "directory_path = '/Users/ximing/Desktop/'\n",
    "big_df = load_and_combine_pkl_files(directory_path)\n",
    "big_df = big_df\n",
    "print(big_df)\n"
   ],
   "outputs": [
    {
     "name": "stdout",
     "output_type": "stream",
     "text": [
      "                                                prompt real_output  \\\n",
      "0    out by an adult who 's apparently been forced ...               \n",
      "1    comes off as a long , laborious whine , the be...               \n",
      "2    scene the impressively discreet filmmakers may...               \n",
      "3    the touch is generally light enough and the pe...               \n",
      "4    this is cruel , misanthropic stuff with only w...               \n",
      "..                                                 ...         ...   \n",
      "193  an audience full of teenagers fixating on its ...               \n",
      "194  returning to one anecdote for comparison : the...               \n",
      "195  might be wishing for a watch that makes time g...               \n",
      "196  is almost completely lacking in suspense , sur...               \n",
      "197  a fast , frenetic , funny , even punny 6 -- ai...               \n",
      "\n",
      "                                           token_level  \\\n",
      "0    {'tokens': [{'token': 'out', 'type': 'input', ...   \n",
      "1    {'tokens': [{'token': 'comes', 'type': 'input'...   \n",
      "2    {'tokens': [{'token': 'scene', 'type': 'input'...   \n",
      "3    {'tokens': [{'token': 'the', 'type': 'input', ...   \n",
      "4    {'tokens': [{'token': 'this', 'type': 'input',...   \n",
      "..                                                 ...   \n",
      "193  {'tokens': [{'token': 'an', 'type': 'input', '...   \n",
      "194  {'tokens': [{'token': 'returning', 'type': 'in...   \n",
      "195  {'tokens': [{'token': 'might', 'type': 'input'...   \n",
      "196  {'tokens': [{'token': 'is', 'type': 'input', '...   \n",
      "197  {'tokens': [{'token': 'a', 'type': 'input', 'v...   \n",
      "\n",
      "                                            word_level  label  \\\n",
      "0    {'tokens': [{'token': 'out', 'type': 'input', ...      0   \n",
      "1    {'tokens': [{'token': 'comes', 'type': 'input'...      0   \n",
      "2    {'tokens': [{'token': 'scene', 'type': 'input'...      0   \n",
      "3    {'tokens': [{'token': 'the', 'type': 'input', ...      1   \n",
      "4    {'tokens': [{'token': 'this', 'type': 'input',...      0   \n",
      "..                                                 ...    ...   \n",
      "193  {'tokens': [{'token': 'an', 'type': 'input', '...      0   \n",
      "194  {'tokens': [{'token': 'returning', 'type': 'in...      0   \n",
      "195  {'tokens': [{'token': 'might', 'type': 'input'...      0   \n",
      "196  {'tokens': [{'token': 'is', 'type': 'input', '...      0   \n",
      "197  {'tokens': [{'token': 'a', 'type': 'input', 'v...      1   \n",
      "\n",
      "                                       component_level  \\\n",
      "0    ({'instruction': 0.9905165281461857, 'query': ...   \n",
      "1    ({'instruction': 0.8427807577973316, 'query': ...   \n",
      "2    ({'instruction': 0.9917022543834708, 'query': ...   \n",
      "3    ({'instruction': 0.9959318525871705, 'query': ...   \n",
      "4    ({'instruction': 0.9022242434207016, 'query': ...   \n",
      "..                                                 ...   \n",
      "193  ({'instruction': 0.9937834325073491, 'query': ...   \n",
      "194  ({'instruction': 0.9918349302619889, 'query': ...   \n",
      "195  ({'instruction': 0.9957992589017446, 'query': ...   \n",
      "196  ({'instruction': 0.8759107711651458, 'query': ...   \n",
      "197  ({'instruction': 0.6882238824278788, 'query': ...   \n",
      "\n",
      "                                           instruction  \\\n",
      "0    Analyze the sentiment of the previous sentence...   \n",
      "1    Analyze the sentiment of the previous sentence...   \n",
      "2    Analyze the sentiment of the previous sentence...   \n",
      "3    Analyze the sentiment of the previous sentence...   \n",
      "4    Analyze the sentiment of the previous sentence...   \n",
      "..                                                 ...   \n",
      "193  Analyze the sentiment of the previous sentence...   \n",
      "194  Analyze the sentiment of the previous sentence...   \n",
      "195  Analyze the sentiment of the previous sentence...   \n",
      "196  Analyze the sentiment of the previous sentence...   \n",
      "197  Analyze the sentiment of the previous sentence...   \n",
      "\n",
      "                                                 query  \\\n",
      "0    out by an adult who 's apparently been forced ...   \n",
      "1    comes off as a long , laborious whine , the be...   \n",
      "2    scene the impressively discreet filmmakers may...   \n",
      "3    the touch is generally light enough and the pe...   \n",
      "4    this is cruel , misanthropic stuff with only w...   \n",
      "..                                                 ...   \n",
      "193  an audience full of teenagers fixating on its ...   \n",
      "194  returning to one anecdote for comparison : the...   \n",
      "195  might be wishing for a watch that makes time g...   \n",
      "196  is almost completely lacking in suspense , sur...   \n",
      "197  a fast , frenetic , funny , even punny 6 -- ai...   \n",
      "\n",
      "                                       component_range  instruction_weight  \\\n",
      "0    {'instruction': [18, 19, 20, 21, 22, 23, 24, 2...            0.990517   \n",
      "1    {'instruction': [18, 19, 20, 21, 22, 23, 24, 2...            0.842781   \n",
      "2    {'instruction': [14, 15, 16, 17, 18, 19, 20, 2...            0.991702   \n",
      "3    {'instruction': [17, 18, 19, 20, 21, 22, 23, 2...            0.995932   \n",
      "4    {'instruction': [16, 17, 18, 19, 20, 21, 22, 2...            0.902224   \n",
      "..                                                 ...                 ...   \n",
      "193  {'instruction': [14, 15, 16, 17, 18, 19, 20, 2...            0.993783   \n",
      "194  {'instruction': [15, 16, 17, 18, 19, 20, 21, 2...            0.991835   \n",
      "195  {'instruction': [18, 19, 20, 21, 22, 23, 24, 2...            0.995799   \n",
      "196  {'instruction': [13, 14, 15, 16, 17, 18, 19, 2...            0.875911   \n",
      "197  {'instruction': [17, 18, 19, 20, 21, 22, 23, 2...            0.688224   \n",
      "\n",
      "     ...                      query_token_top_0.25_peturbed  \\\n",
      "0    ...  [{'token': 'out', 'type': 'input', 'value': 0....   \n",
      "1    ...  [{'token': 'comes', 'type': 'input', 'value': ...   \n",
      "2    ...  [{'token': 'scene', 'type': 'input', 'value': ...   \n",
      "3    ...  [{'token': 'the', 'type': 'input', 'value': 0....   \n",
      "4    ...  [{'token': 'sarcologist', 'type': 'input', 'va...   \n",
      "..   ...                                                ...   \n",
      "193  ...  [{'token': 'an', 'type': 'input', 'value': 1.1...   \n",
      "194  ...  [{'token': 'returning', 'type': 'input', 'valu...   \n",
      "195  ...  [{'token': 'might', 'type': 'input', 'value': ...   \n",
      "196  ...  [{'token': 'is', 'type': 'input', 'value': 0.0...   \n",
      "197  ...  [{'token': 'hypoischium', 'type': 'input', 'va...   \n",
      "\n",
      "                      query_token_bottom_0.25_peturbed  \\\n",
      "0    [{'token': 'out', 'type': 'input', 'value': 0....   \n",
      "1    [{'token': 'Pithecanthropus', 'type': 'input',...   \n",
      "2    [{'token': 'scene', 'type': 'input', 'value': ...   \n",
      "3    [{'token': 'the', 'type': 'input', 'value': 0....   \n",
      "4    [{'token': 'this', 'type': 'input', 'value': 0...   \n",
      "..                                                 ...   \n",
      "193  [{'token': 'esociform', 'type': 'input', 'valu...   \n",
      "194  [{'token': 'returning', 'type': 'input', 'valu...   \n",
      "195  [{'token': 'might', 'type': 'input', 'value': ...   \n",
      "196  [{'token': 'is', 'type': 'input', 'value': 0.0...   \n",
      "197  [{'token': 'a', 'type': 'input', 'value': 0.05...   \n",
      "\n",
      "                    top_reconstructed_instruction_0.25  \\\n",
      "0    out by an adult who 's apparently been forced ...   \n",
      "1    comes off as a long , laborious whine , the be...   \n",
      "2    scene the impressively discreet filmmakers may...   \n",
      "3    the touch is generally light enough and the pe...   \n",
      "4    this is cruel , misanthropic stuff with only w...   \n",
      "..                                                 ...   \n",
      "193  an audience full of teenagers fixating on its ...   \n",
      "194  returning to one anecdote for comparison : the...   \n",
      "195  might be wishing for a watch that makes time g...   \n",
      "196  is almost completely lacking in suspense , sur...   \n",
      "197  a fast , frenetic , funny , even punny 6 -- ai...   \n",
      "\n",
      "                          top_reconstructed_query_0.25  \\\n",
      "0    out by an adult who 's apparently been triphib...   \n",
      "1    comes off as lithifaction long , laborious cin...   \n",
      "2    scene the distaff transcendentalist planity ma...   \n",
      "3    the touch is generally packwall enough intenan...   \n",
      "4    sarcologist is cruel , uninweaved stuff with o...   \n",
      "..                                                 ...   \n",
      "193  an audience full of homily unimported on windr...   \n",
      "194  returning to one velvetlike for comparison : t...   \n",
      "195  might be Guric for a watch eschatology makes X...   \n",
      "196  is almost completely proofer in nonalienating ...   \n",
      "197  hypoischium subglossal , frenetic , funny , ed...   \n",
      "\n",
      "                 bottom_reconstructed_instruction_0.25  \\\n",
      "0    out by an adult who 's apparently been forced ...   \n",
      "1    comes off as a long , laborious whine , the be...   \n",
      "2    scene the impressively discreet filmmakers may...   \n",
      "3    the touch is generally light enough and the pe...   \n",
      "4    this is cruel , misanthropic stuff with only w...   \n",
      "..                                                 ...   \n",
      "193  an audience full of teenagers fixating on its ...   \n",
      "194  returning to one anecdote for comparison : the...   \n",
      "195  might be wishing for a watch that makes time g...   \n",
      "196  is almost completely lacking in suspense , sur...   \n",
      "197  a fast , frenetic , funny , even punny 6 -- ai...   \n",
      "\n",
      "                       bottom_reconstructed_query_0.25  \\\n",
      "0    out Maggy vizierial Antarctalian who 's appare...   \n",
      "1    Pithecanthropus caesaropopism as a long , spir...   \n",
      "2    scene the impressively discreet filmmakers may...   \n",
      "3    the touch is generally light unimportunately a...   \n",
      "4    this unshameable cruel stereogram misanthropic...   \n",
      "..                                                 ...   \n",
      "193  esociform audience full rousement teenagers fi...   \n",
      "194  returning to impecuniosity anecdote for coxcom...   \n",
      "195  might be wishing for unpatientness watch that ...   \n",
      "196  is almost pilulous lacking in suspense , tinsm...   \n",
      "197  a fast contradebt frenetic , funny tenotomy ev...   \n",
      "\n",
      "    top_reconstructed_instruction_0.25_result  \\\n",
      "0                                         .\\n   \n",
      "1                                       ishly   \n",
      "2                                         .\\n   \n",
      "3                                      and un   \n",
      "4                                         .\\n   \n",
      "..                                        ...   \n",
      "193                                  with the   \n",
      "194                                       .\\n   \n",
      "195                                       .\\n   \n",
      "196                                    and un   \n",
      "197                                       .\\n   \n",
      "\n",
      "    top_reconstructed_query_0.25_result  \\\n",
      "0                                   NEG   \n",
      "1                                   NEG   \n",
      "2                                   NEG   \n",
      "3                                   NEG   \n",
      "4                                   NEG   \n",
      "..                                  ...   \n",
      "193                                 NEG   \n",
      "194                                 NEG   \n",
      "195                                 NEG   \n",
      "196                               POSIT   \n",
      "197                                 NEG   \n",
      "\n",
      "    bottom_reconstructed_instruction_0.25_result  \\\n",
      "0                                          POSIT   \n",
      "1                                            NEG   \n",
      "2                                          POSIT   \n",
      "3                                          POSIT   \n",
      "4                                          POSIT   \n",
      "..                                           ...   \n",
      "193                                          NEG   \n",
      "194                                          NEG   \n",
      "195                                          NEG   \n",
      "196                                          NEG   \n",
      "197                                        POSIT   \n",
      "\n",
      "    bottom_reconstructed_query_0.25_result  \n",
      "0                                    POSIT  \n",
      "1                                      NEG  \n",
      "2                                      NEG  \n",
      "3                                      NEG  \n",
      "4                                      NEG  \n",
      "..                                     ...  \n",
      "193                                    NEG  \n",
      "194                                    NEG  \n",
      "195                                    NEG  \n",
      "196                                    NEG  \n",
      "197                                  POSIT  \n",
      "\n",
      "[198 rows x 29 columns]\n"
     ]
    }
   ],
   "execution_count": 35
  },
  {
   "metadata": {
    "ExecuteTime": {
     "end_time": "2024-09-26T14:01:09.075159Z",
     "start_time": "2024-09-26T14:01:09.069089Z"
    }
   },
   "cell_type": "code",
   "source": "print(big_df.columns)",
   "id": "245a45e8399d08b2",
   "outputs": [
    {
     "name": "stdout",
     "output_type": "stream",
     "text": [
      "Index(['prompt', 'real_output', 'token_level', 'word_level', 'component_level',\n",
      "       'instruction', 'query', 'component_range', 'instruction_weight',\n",
      "       'query_weight', 'exec_time', 'input_cost', 'output_cost', 'total_cost',\n",
      "       'real_ouputs', 'instructions_tokens', 'query_tokens'],\n",
      "      dtype='object')\n"
     ]
    }
   ],
   "execution_count": 29
  },
  {
   "metadata": {
    "ExecuteTime": {
     "end_time": "2024-09-26T14:01:11.706084Z",
     "start_time": "2024-09-26T14:01:11.700632Z"
    }
   },
   "cell_type": "code",
   "source": "expanded_df = pd.DataFrame([word for sublist in big_df['instructions_tokens'] for word in sublist])\n",
   "id": "391e96cb3fd22eee",
   "outputs": [],
   "execution_count": 30
  },
  {
   "metadata": {
    "ExecuteTime": {
     "end_time": "2024-09-26T14:01:29.183622Z",
     "start_time": "2024-09-26T14:01:29.165521Z"
    }
   },
   "cell_type": "code",
   "source": [
    "grouped_stats = expanded_df.groupby('token').agg({\n",
    "    'value': ['sum', 'mean']  # 计算总和和均值\n",
    "}).reset_index()\n",
    "grouped_stats.columns = ['token', 'total_value', 'average_value']  # 重新命名列以便阅读\n",
    "print(grouped_stats)"
   ],
   "id": "c3144def9ae2039",
   "outputs": [
    {
     "name": "stdout",
     "output_type": "stream",
     "text": [
      "     token  total_value  average_value\n",
      "0  Respond     7.035245       0.071788\n",
      "1        a     6.954704       0.070966\n",
      "2     form     6.981214       0.071237\n",
      "3       in     6.979714       0.071222\n",
      "4     long     6.955979       0.070979\n",
      "5       of     6.989855       0.071325\n",
      "6    story     6.931501       0.070730\n",
      "7      the     6.994080       0.071368\n"
     ]
    }
   ],
   "execution_count": 31
  },
  {
   "metadata": {},
   "cell_type": "code",
   "outputs": [],
   "execution_count": null,
   "source": "",
   "id": "3c623e756b5c12ad"
  },
  {
   "metadata": {},
   "cell_type": "code",
   "outputs": [],
   "execution_count": null,
   "source": "",
   "id": "b27e41a92733d7c6"
  },
  {
   "metadata": {},
   "cell_type": "markdown",
   "source": "",
   "id": "5658b3c1028cc4b2"
  },
  {
   "metadata": {},
   "cell_type": "markdown",
   "source": "discretize ",
   "id": "4548d244dae7be26"
  },
  {
   "metadata": {
    "ExecuteTime": {
     "end_time": "2024-09-26T13:59:00.407256Z",
     "start_time": "2024-09-26T13:59:00.382727Z"
    }
   },
   "cell_type": "code",
   "source": [
    "grouped_stats = expanded_df.groupby('token').agg({\n",
    "    'value': ['sum', 'mean']  \n",
    "}).reset_index()\n",
    "grouped_stats.columns = ['token', 'total_value', 'average_value'] \n",
    "print(grouped_stats)"
   ],
   "id": "b9b9a554ae48ed4f",
   "outputs": [
    {
     "name": "stdout",
     "output_type": "stream",
     "text": [
      "     token  total_value  average_value\n",
      "0  Respond     6.650957       0.067867\n",
      "1        a     6.684485       0.068209\n",
      "2     form     6.512113       0.066450\n",
      "3       in     6.794886       0.069336\n",
      "4     long     7.163081       0.073093\n",
      "5       of     6.620741       0.067559\n",
      "6    story     7.846718       0.080069\n",
      "7      the     6.574434       0.067086\n"
     ]
    }
   ],
   "execution_count": 27
  },
  {
   "metadata": {},
   "cell_type": "markdown",
   "source": "",
   "id": "5e63fbd4a8c0456b"
  },
  {
   "metadata": {},
   "cell_type": "markdown",
   "source": "simliarity ",
   "id": "3ef8da2fbddb9841"
  },
  {
   "metadata": {
    "ExecuteTime": {
     "end_time": "2024-09-26T13:55:26.252261Z",
     "start_time": "2024-09-26T13:55:26.072339Z"
    }
   },
   "cell_type": "code",
   "source": [
    "grouped_stats = expanded_df.groupby('token').agg({\n",
    "    'value': ['sum', 'mean']  # 计算总和和均值\n",
    "}).reset_index()\n",
    "grouped_stats.columns = ['token', 'total_value', 'average_value']  # 重新命名列以便阅读\n",
    "print(grouped_stats)"
   ],
   "id": "5c1a9cb227357251",
   "outputs": [
    {
     "name": "stdout",
     "output_type": "stream",
     "text": [
      "     token  total_value  average_value\n",
      "0  Respond     4.941783       0.050426\n",
      "1        a     5.138980       0.052439\n",
      "2     form     5.004630       0.051068\n",
      "3       in     5.109278       0.052135\n",
      "4     long     5.712436       0.058290\n",
      "5       of     5.075337       0.051789\n",
      "6    story     7.830939       0.079908\n",
      "7      the     4.838620       0.049374\n"
     ]
    }
   ],
   "execution_count": 21
  },
  {
   "metadata": {},
   "cell_type": "code",
   "outputs": [],
   "execution_count": null,
   "source": "",
   "id": "251a5ae7efb58992"
  },
  {
   "metadata": {},
   "cell_type": "code",
   "outputs": [],
   "execution_count": null,
   "source": "",
   "id": "24b1283581bfa61c"
  },
  {
   "metadata": {},
   "cell_type": "code",
   "outputs": [],
   "execution_count": null,
   "source": "",
   "id": "76667b9c0bb511a1"
  },
  {
   "metadata": {},
   "cell_type": "code",
   "outputs": [],
   "execution_count": null,
   "source": "",
   "id": "ffeb71503b0941bf"
  },
  {
   "metadata": {},
   "cell_type": "code",
   "outputs": [],
   "execution_count": null,
   "source": "",
   "id": "31b1ed64c19581f3"
  },
  {
   "metadata": {},
   "cell_type": "code",
   "outputs": [],
   "execution_count": null,
   "source": "",
   "id": "dcdb33f4d7553897"
  },
  {
   "metadata": {},
   "cell_type": "code",
   "outputs": [],
   "execution_count": null,
   "source": "",
   "id": "7703a7e1cba43b7"
  },
  {
   "metadata": {},
   "cell_type": "code",
   "source": "print(big_df.iloc[4]['word_level'])",
   "id": "1f40caaa06320c4e",
   "outputs": [],
   "execution_count": null
  },
  {
   "metadata": {},
   "cell_type": "code",
   "source": "print(big_df['bottom_reconstructed_query_0.2_result'][:20])\n",
   "id": "9235a358387f836e",
   "outputs": [],
   "execution_count": null
  },
  {
   "metadata": {
    "ExecuteTime": {
     "end_time": "2024-09-25T14:00:39.832484Z",
     "start_time": "2024-09-24T17:52:08.148851Z"
    }
   },
   "cell_type": "code",
   "source": [
    "differences = big_df['real_output'] != big_df['bottom_reconstructed_query_0.2_result']\n",
    "print(differences.sum()/len(differences))"
   ],
   "id": "864ecdc676891e34",
   "outputs": [
    {
     "name": "stdout",
     "output_type": "stream",
     "text": [
      "0.07142857142857142\n"
     ]
    }
   ],
   "execution_count": 11
  },
  {
   "metadata": {
    "ExecuteTime": {
     "end_time": "2024-09-25T14:00:39.833632Z",
     "start_time": "2024-09-24T17:52:10.347302Z"
    }
   },
   "cell_type": "code",
   "source": [
    "differences = big_df['real_output'] != big_df['top_reconstructed_query_0.2_result']\n",
    "print(differences.sum()/len(differences))"
   ],
   "id": "5745d3c81c71470c",
   "outputs": [
    {
     "name": "stdout",
     "output_type": "stream",
     "text": [
      "0.35714285714285715\n"
     ]
    }
   ],
   "execution_count": 12
  },
  {
   "metadata": {},
   "cell_type": "code",
   "source": "",
   "id": "91d05f29c1cc0691",
   "outputs": [],
   "execution_count": null
  },
  {
   "metadata": {
    "ExecuteTime": {
     "end_time": "2024-09-25T14:15:43.802348Z",
     "start_time": "2024-09-25T14:15:43.783797Z"
    }
   },
   "cell_type": "code",
   "source": [
    "differences = big_df['real_output'] != big_df['bottom_reconstructed_instruction_0.2_result']\n",
    "print(differences.sum()/len(differences))"
   ],
   "id": "1ba31c43152ff3f6",
   "outputs": [
    {
     "name": "stdout",
     "output_type": "stream",
     "text": [
      "0.030612244897959183\n"
     ]
    }
   ],
   "execution_count": 11
  },
  {
   "metadata": {
    "ExecuteTime": {
     "end_time": "2024-09-25T14:00:39.835534Z",
     "start_time": "2024-09-24T17:53:26.297777Z"
    }
   },
   "cell_type": "code",
   "source": [
    "differences = big_df['real_output'] != big_df['top_reconstructed_instruction_0.2_result']\n",
    "print(differences.sum()/len(differences))"
   ],
   "id": "9038b6db8146f6ea",
   "outputs": [
    {
     "name": "stdout",
     "output_type": "stream",
     "text": [
      "1.0\n"
     ]
    }
   ],
   "execution_count": 14
  },
  {
   "metadata": {
    "ExecuteTime": {
     "end_time": "2024-09-25T14:00:39.837522Z",
     "start_time": "2024-09-24T17:53:33.076169Z"
    }
   },
   "cell_type": "code",
   "source": "print(big_df['instruction_weight'].mean())",
   "id": "39d5e3fea00d7c55",
   "outputs": [
    {
     "name": "stdout",
     "output_type": "stream",
     "text": [
      "0.8787098084681545\n"
     ]
    }
   ],
   "execution_count": 15
  },
  {
   "metadata": {
    "ExecuteTime": {
     "end_time": "2024-09-25T14:00:39.838216Z",
     "start_time": "2024-09-24T17:53:34.665415Z"
    }
   },
   "cell_type": "code",
   "source": "print(big_df['query_weight'].mean())",
   "id": "6921c49d60e64cba",
   "outputs": [
    {
     "name": "stdout",
     "output_type": "stream",
     "text": [
      "0.12129019153184557\n"
     ]
    }
   ],
   "execution_count": 16
  },
  {
   "metadata": {
    "ExecuteTime": {
     "end_time": "2024-09-25T14:15:49.186337Z",
     "start_time": "2024-09-25T14:15:49.178249Z"
    }
   },
   "cell_type": "code",
   "source": "print(big_df['exec_time'].mean())",
   "id": "b4dbeae654d5b86b",
   "outputs": [
    {
     "name": "stdout",
     "output_type": "stream",
     "text": [
      "17.86105881661785\n"
     ]
    }
   ],
   "execution_count": 12
  },
  {
   "metadata": {
    "ExecuteTime": {
     "end_time": "2024-09-25T14:15:59.968823Z",
     "start_time": "2024-09-25T14:15:59.964244Z"
    }
   },
   "cell_type": "code",
   "source": "print(big_df['input_cost'].mean())",
   "id": "c23afaaa0cc2bfb1",
   "outputs": [
    {
     "name": "stdout",
     "output_type": "stream",
     "text": [
      "1426.1836734693877\n"
     ]
    }
   ],
   "execution_count": 13
  },
  {
   "metadata": {
    "ExecuteTime": {
     "end_time": "2024-09-25T14:16:01.699944Z",
     "start_time": "2024-09-25T14:16:01.691636Z"
    }
   },
   "cell_type": "code",
   "source": "print(big_df['output_cost'].mean())\n",
   "id": "a2e64a60b0a9055f",
   "outputs": [
    {
     "name": "stdout",
     "output_type": "stream",
     "text": [
      "154.48979591836735\n"
     ]
    }
   ],
   "execution_count": 14
  },
  {
   "metadata": {
    "ExecuteTime": {
     "end_time": "2024-09-25T14:16:03.317001Z",
     "start_time": "2024-09-25T14:16:03.312234Z"
    }
   },
   "cell_type": "code",
   "source": "print(big_df['total_cost'].mean())\n",
   "id": "1c6233caab1f6d41",
   "outputs": [
    {
     "name": "stdout",
     "output_type": "stream",
     "text": [
      "1580.6734693877552\n"
     ]
    }
   ],
   "execution_count": 15
  }
 ],
 "metadata": {
  "kernelspec": {
   "display_name": "Python 3",
   "language": "python",
   "name": "python3"
  },
  "language_info": {
   "codemirror_mode": {
    "name": "ipython",
    "version": 2
   },
   "file_extension": ".py",
   "mimetype": "text/x-python",
   "name": "python",
   "nbconvert_exporter": "python",
   "pygments_lexer": "ipython2",
   "version": "2.7.6"
  }
 },
 "nbformat": 4,
 "nbformat_minor": 5
}
