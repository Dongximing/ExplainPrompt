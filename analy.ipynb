{
 "cells": [
  {
   "cell_type": "code",
   "id": "initial_id",
   "metadata": {
    "collapsed": true,
    "ExecuteTime": {
     "end_time": "2024-09-24T14:48:19.368432Z",
     "start_time": "2024-09-24T14:48:18.539243Z"
    }
   },
   "source": [
    "import pandas as pd\n",
    "import os\n",
    "\n",
    "\n",
    "def load_and_combine_pkl_files(directory_path):\n",
    "    # List to hold all the dataframes\n",
    "    dataframes = []\n",
    "\n",
    "    # Loop through all the files in the specified directory\n",
    "    for filename in os.listdir(directory_path):\n",
    "        if filename.endswith('similarity_perturbed_inferenced_df.pkl'):\n",
    "            # Construct full file path\n",
    "            file_path = os.path.join(directory_path, filename)\n",
    "            # Load the dataframe from a pkl file\n",
    "            df = pd.read_pickle(file_path)\n",
    "            # Append the dataframe to the list\n",
    "            dataframes.append(df)\n",
    "\n",
    "    # Concatenate all dataframes into one big dataframe\n",
    "    big_df = pd.concat(dataframes, ignore_index=True)\n",
    "\n",
    "    return big_df\n",
    "\n",
    "\n",
    "# Usage\n",
    "directory_path = '/Users/ximing/Desktop/Explainprompt'\n",
    "big_df = load_and_combine_pkl_files(directory_path)\n",
    "big_df = big_df\n",
    "print(big_df)\n"
   ],
   "outputs": [
    {
     "name": "stdout",
     "output_type": "stream",
     "text": [
      "                                                prompt real_output  \\\n",
      "0    the refugees able to look ahead and resist liv...  ^POSITIVE^   \n",
      "1    puts the dutiful efforts of more disciplined g...  ^POSITIVE^   \n",
      "2    big stars and high production values are stand...  ^POSITIVE^   \n",
      "3    it 's funny , as the old saying goes , because...  ^POSITIVE^   \n",
      "4    i 've seen in a while , a meander through worn...  ^POSITIVE^   \n",
      "..                                                 ...         ...   \n",
      "991  rare to find a film to which the adjective ` g...  ^POSITIVE^   \n",
      "992  , romance , tragedy , false dawns , real dawns...  ^POSITIVE^   \n",
      "993  a big-budget/all-star movie as unblinkingly pu...  ^POSITIVE^   \n",
      "994  the refugees able to look ahead and resist liv...  ^POSITIVE^   \n",
      "995  big stars and high production values are stand...  ^POSITIVE^   \n",
      "\n",
      "                                           token_level  \\\n",
      "0    {'tokens': [{'token': 'the', 'type': 'input', ...   \n",
      "1    {'tokens': [{'token': 'puts', 'type': 'input',...   \n",
      "2    {'tokens': [{'token': 'big', 'type': 'input', ...   \n",
      "3    {'tokens': [{'token': 'it', 'type': 'input', '...   \n",
      "4    {'tokens': [{'token': 'i', 'type': 'input', 'v...   \n",
      "..                                                 ...   \n",
      "991  {'tokens': [{'token': 'r', 'type': 'input', 'v...   \n",
      "992  {'tokens': [{'token': ',', 'type': 'input', 'v...   \n",
      "993  {'tokens': [{'token': 'a', 'type': 'input', 'v...   \n",
      "994  {'tokens': [{'token': 'the', 'type': 'input', ...   \n",
      "995  {'tokens': [{'token': 'big', 'type': 'input', ...   \n",
      "\n",
      "                                            word_level  label  \\\n",
      "0    {'tokens': [{'token': 'the', 'type': 'input', ...      1   \n",
      "1    {'tokens': [{'token': 'puts', 'type': 'input',...      1   \n",
      "2    {'tokens': [{'token': 'big', 'type': 'input', ...      1   \n",
      "3    {'tokens': [{'token': 'it', 'type': 'input', '...      1   \n",
      "4    {'tokens': [{'token': 'i', 'type': 'input', 'v...      0   \n",
      "..                                                 ...    ...   \n",
      "991  {'tokens': [{'token': 'rare', 'type': 'input',...      1   \n",
      "992  {'tokens': [{'token': ',', 'type': 'input', 'v...      1   \n",
      "993  {'tokens': [{'token': 'a', 'type': 'input', 'v...      1   \n",
      "994  {'tokens': [{'token': 'the', 'type': 'input', ...      1   \n",
      "995  {'tokens': [{'token': 'big', 'type': 'input', ...      1   \n",
      "\n",
      "                                       component_level  \\\n",
      "0    ({'instruction': 0.6781123308572624, 'query': ...   \n",
      "1    ({'instruction': 0.6874473644982283, 'query': ...   \n",
      "2    ({'instruction': 0.7410652235455226, 'query': ...   \n",
      "3    ({'instruction': 0.6024115079530362, 'query': ...   \n",
      "4    ({'instruction': 0.6083869192510277, 'query': ...   \n",
      "..                                                 ...   \n",
      "991  ({'instruction': 0.6383750182881514, 'query': ...   \n",
      "992  ({'instruction': 0.6255116699358473, 'query': ...   \n",
      "993  ({'instruction': 0.6478679799141875, 'query': ...   \n",
      "994  ({'instruction': 0.6821849278472095, 'query': ...   \n",
      "995  ({'instruction': 0.7410653691064526, 'query': ...   \n",
      "\n",
      "                                           instruction  \\\n",
      "0    Analyze the sentiment of the previous sentence...   \n",
      "1    Analyze the sentiment of the previous sentence...   \n",
      "2    Analyze the sentiment of the previous sentence...   \n",
      "3    Analyze the sentiment of the previous sentence...   \n",
      "4    Analyze the sentiment of the previous sentence...   \n",
      "..                                                 ...   \n",
      "991  Analyze the sentiment of the previous sentence...   \n",
      "992  Analyze the sentiment of the previous sentence...   \n",
      "993  Analyze the sentiment of the previous sentence...   \n",
      "994  Analyze the sentiment of the previous sentence...   \n",
      "995  Analyze the sentiment of the previous sentence...   \n",
      "\n",
      "                                                 query  \\\n",
      "0    the refugees able to look ahead and resist liv...   \n",
      "1    puts the dutiful efforts of more disciplined g...   \n",
      "2    big stars and high production values are stand...   \n",
      "3    it 's funny , as the old saying goes , because...   \n",
      "4    i 've seen in a while , a meander through worn...   \n",
      "..                                                 ...   \n",
      "991  rare to find a film to which the adjective ` g...   \n",
      "992  , romance , tragedy , false dawns , real dawns...   \n",
      "993  a big-budget/all-star movie as unblinkingly pu...   \n",
      "994  the refugees able to look ahead and resist liv...   \n",
      "995  big stars and high production values are stand...   \n",
      "\n",
      "                                       component_range  instruction_weight  \\\n",
      "0    {'instruction': [12, 13, 14, 15, 16, 17, 18, 1...            0.678112   \n",
      "1    {'instruction': [8, 9, 10, 11, 12, 13, 14, 15,...            0.687447   \n",
      "2    {'instruction': [9, 10, 11, 12, 13, 14, 15, 16...            0.741065   \n",
      "3    {'instruction': [15, 16, 17, 18, 19, 20, 21, 2...            0.602412   \n",
      "4    {'instruction': [12, 13, 14, 15, 16, 17, 18, 1...            0.608387   \n",
      "..                                                 ...                 ...   \n",
      "991  {'instruction': [13, 14, 15, 16, 17, 18, 19, 2...            0.638375   \n",
      "992  {'instruction': [13, 14, 15, 16, 17, 18, 19, 2...            0.625512   \n",
      "993  {'instruction': [9, 10, 11, 12, 13, 14, 15, 16...            0.647868   \n",
      "994  {'instruction': [12, 13, 14, 15, 16, 17, 18, 1...            0.682185   \n",
      "995  {'instruction': [9, 10, 11, 12, 13, 14, 15, 16...            0.741065   \n",
      "\n",
      "     ...                       query_token_top_0.2_peturbed  \\\n",
      "0    ...  [{'token': 'childbirth', 'type': 'input', 'val...   \n",
      "1    ...  [{'token': 'puts', 'type': 'input', 'value': 0...   \n",
      "2    ...  [{'token': 'shrublike', 'type': 'input', 'valu...   \n",
      "3    ...  [{'token': 'trencherlike', 'type': 'input', 'v...   \n",
      "4    ...  [{'token': 'i', 'type': 'input', 'value': 0.02...   \n",
      "..   ...                                                ...   \n",
      "991  ...  [{'token': 'thermostimulation', 'type': 'input...   \n",
      "992  ...  [{'token': ',', 'type': 'input', 'value': 0.02...   \n",
      "993  ...  [{'token': 'a', 'type': 'input', 'value': 0.02...   \n",
      "994  ...  [{'token': 'xiphias', 'type': 'input', 'value'...   \n",
      "995  ...  [{'token': 'Bougainvillia', 'type': 'input', '...   \n",
      "\n",
      "                       query_token_bottom_0.2_peturbed  \\\n",
      "0    [{'token': 'the', 'type': 'input', 'value': 0....   \n",
      "1    [{'token': 'puts', 'type': 'input', 'value': 0...   \n",
      "2    [{'token': 'big', 'type': 'input', 'value': 0....   \n",
      "3    [{'token': 'it', 'type': 'input', 'value': 0.0...   \n",
      "4    [{'token': 'milliad', 'type': 'input', 'value'...   \n",
      "..                                                 ...   \n",
      "991  [{'token': 'rare', 'type': 'input', 'value': 0...   \n",
      "992  [{'token': ',', 'type': 'input', 'value': 0.02...   \n",
      "993  [{'token': 'a', 'type': 'input', 'value': 0.02...   \n",
      "994  [{'token': 'the', 'type': 'input', 'value': 0....   \n",
      "995  [{'token': 'big', 'type': 'input', 'value': 0....   \n",
      "\n",
      "                     top_reconstructed_instruction_0.2  \\\n",
      "0    the refugees able to look ahead and resist liv...   \n",
      "1    puts the dutiful efforts of more disciplined g...   \n",
      "2    big stars and high production values are stand...   \n",
      "3    it 's funny , as the old saying goes , because...   \n",
      "4    i 've seen in a while , a meander through worn...   \n",
      "..                                                 ...   \n",
      "991  rare to find a film to which the adjective ` g...   \n",
      "992  , romance , tragedy , false dawns , real dawns...   \n",
      "993  a big-budget/all-star movie as unblinkingly pu...   \n",
      "994  the refugees able to look ahead and resist liv...   \n",
      "995  big stars and high production values are stand...   \n",
      "\n",
      "                           top_reconstructed_query_0.2  \\\n",
      "0    childbirth revary able to look ahead and resis...   \n",
      "1    puts the dutiful efforts of more disciplined s...   \n",
      "2    shrublike stars and high production values are...   \n",
      "3    trencherlike antiphlogistian funny , as the ol...   \n",
      "4    i magazinable seen in a while , a meander thro...   \n",
      "..                                                 ...   \n",
      "991  thermostimulation Ectotrophi find a film to wh...   \n",
      "992  , romance , tragedy , false unspacious , real ...   \n",
      "993  a delegatory movie as unblinkingly pure as the...   \n",
      "994  xiphias fabling able to look ahead and resist ...   \n",
      "995  Bougainvillia stars and high production values...   \n",
      "\n",
      "                  bottom_reconstructed_instruction_0.2  \\\n",
      "0    the refugees able to look ahead and resist liv...   \n",
      "1    puts the dutiful efforts of more disciplined g...   \n",
      "2    big stars and high production values are stand...   \n",
      "3    it 's funny , as the old saying goes , because...   \n",
      "4    i 've seen in a while , a meander through worn...   \n",
      "..                                                 ...   \n",
      "991  rare to find a film to which the adjective ` g...   \n",
      "992  , romance , tragedy , false dawns , real dawns...   \n",
      "993  a big-budget/all-star movie as unblinkingly pu...   \n",
      "994  the refugees able to look ahead and resist liv...   \n",
      "995  big stars and high production values are stand...   \n",
      "\n",
      "                        bottom_reconstructed_query_0.2  \\\n",
      "0    the refugees able to look ahead and resist pre...   \n",
      "1    puts the dutiful efforts of Raphanus disciplin...   \n",
      "2    big stars and high production values are stand...   \n",
      "3    it 's funny , as the old saying goes , because...   \n",
      "4    milliad 've seen in a while gunocracy a meande...   \n",
      "..                                                 ...   \n",
      "991  rare to find a film pneumonocace which the adj...   \n",
      "992  , romance , tragedy , false dawns , odontogeny...   \n",
      "993  a big-budget/all-star movie as unblinkingly pu...   \n",
      "994  the refugees able to look ahead and resist liv...   \n",
      "995  big stars and high production values ectopia s...   \n",
      "\n",
      "              top_reconstructed_instruction_0.2_result  \\\n",
      "0                                                  sap   \n",
      "1                                             Mullidae   \n",
      "2                                            Splendor!   \n",
      "3                                        biopsychology   \n",
      "4                                           perishment   \n",
      "..                                                 ...   \n",
      "991                                       shepherdhood   \n",
      "992  I'm sorry, I don't understand the request. Can...   \n",
      "993  I'm sorry, I'm not sure I understand the reque...   \n",
      "994  I'm sorry, I cannot provide a response to that...   \n",
      "995                                            misfile   \n",
      "\n",
      "    top_reconstructed_query_0.2_result  \\\n",
      "0                           ^POSITIVE^   \n",
      "1                           ^POSITIVE^   \n",
      "2                           ^POSITIVE^   \n",
      "3                           ^POSITIVE^   \n",
      "4                           ^NEGATIVE^   \n",
      "..                                 ...   \n",
      "991                         ^POSITIVE^   \n",
      "992                         ^POSITIVE^   \n",
      "993                         ^POSITIVE^   \n",
      "994                         ^POSITIVE^   \n",
      "995                         ^POSITIVE^   \n",
      "\n",
      "    bottom_reconstructed_instruction_0.2_result  \\\n",
      "0                                    ^POSITIVE^   \n",
      "1                                    ^POSITIVE^   \n",
      "2                                    ^POSITIVE^   \n",
      "3                                    ^POSITIVE^   \n",
      "4       POSITIVE^. Thank you for your response.   \n",
      "..                                          ...   \n",
      "991                                  ^NEGATIVE^   \n",
      "992                                  ^NEGATIVE^   \n",
      "993                                  ^POSITIVE^   \n",
      "994                                  ^POSITIVE^   \n",
      "995                                  ^POSITIVE^   \n",
      "\n",
      "    bottom_reconstructed_query_0.2_result  \n",
      "0                              ^POSITIVE^  \n",
      "1                              ^POSITIVE^  \n",
      "2                              ^POSITIVE^  \n",
      "3                              ^POSITIVE^  \n",
      "4                              ^NEGATIVE^  \n",
      "..                                    ...  \n",
      "991                            ^POSITIVE^  \n",
      "992                            ^NEGATIVE^  \n",
      "993                            ^POSITIVE^  \n",
      "994                            ^POSITIVE^  \n",
      "995                            ^POSITIVE^  \n",
      "\n",
      "[996 rows x 25 columns]\n"
     ]
    }
   ],
   "execution_count": 70
  },
  {
   "metadata": {
    "ExecuteTime": {
     "end_time": "2024-09-24T14:48:20.298885Z",
     "start_time": "2024-09-24T14:48:20.290959Z"
    }
   },
   "cell_type": "code",
   "source": "print(big_df.columns)",
   "id": "245a45e8399d08b2",
   "outputs": [
    {
     "name": "stdout",
     "output_type": "stream",
     "text": [
      "Index(['prompt', 'real_output', 'token_level', 'word_level', 'label',\n",
      "       'component_level', 'instruction', 'query', 'component_range',\n",
      "       'instruction_weight', 'query_weight', 'instructions_tokens',\n",
      "       'query_tokens', 'instruction_token_top_0.2_peturbed',\n",
      "       'instruction_token_bottom_0.2_peturbed', 'query_token_top_0.2_peturbed',\n",
      "       'query_token_bottom_0.2_peturbed', 'top_reconstructed_instruction_0.2',\n",
      "       'top_reconstructed_query_0.2', 'bottom_reconstructed_instruction_0.2',\n",
      "       'bottom_reconstructed_query_0.2',\n",
      "       'top_reconstructed_instruction_0.2_result',\n",
      "       'top_reconstructed_query_0.2_result',\n",
      "       'bottom_reconstructed_instruction_0.2_result',\n",
      "       'bottom_reconstructed_query_0.2_result'],\n",
      "      dtype='object')\n"
     ]
    }
   ],
   "execution_count": 71
  },
  {
   "metadata": {
    "ExecuteTime": {
     "end_time": "2024-09-24T14:48:21.123696Z",
     "start_time": "2024-09-24T14:48:21.118864Z"
    }
   },
   "cell_type": "code",
   "source": "print(big_df.iloc[4]['word_level'])",
   "id": "1f40caaa06320c4e",
   "outputs": [
    {
     "name": "stdout",
     "output_type": "stream",
     "text": [
      "{'tokens': [{'token': 'i', 'type': 'input', 'value': 0.021453715780720754, 'position': 0}, {'token': \"'ve\", 'type': 'input', 'value': 0.05163423586147464, 'position': 1}, {'token': 'seen', 'type': 'input', 'value': 0.03017845061310582, 'position': 2}, {'token': 'in', 'type': 'input', 'value': 0.030178468056911916, 'position': 3}, {'token': 'a', 'type': 'input', 'value': 0.021454850957790275, 'position': 4}, {'token': 'while', 'type': 'input', 'value': 0.030178468056911916, 'position': 5}, {'token': ',', 'type': 'input', 'value': 0.021453715780720754, 'position': 6}, {'token': 'a', 'type': 'input', 'value': 0.02145576780456273, 'position': 7}, {'token': 'meander', 'type': 'input', 'value': 0.05163423586147464, 'position': 8}, {'token': 'through', 'type': 'input', 'value': 0.02145576780456273, 'position': 9}, {'token': 'worn-out', 'type': 'input', 'value': 0.06035693611382383, 'position': 10}, {'token': 'material', 'type': 'input', 'value': 0.030178468056911916, 'position': 11}, {'token': 'Analyze', 'type': 'input', 'value': 0.07309000366603738, 'position': 12}, {'token': 'the', 'type': 'input', 'value': 0.02145576780456273, 'position': 13}, {'token': 'sentiment', 'type': 'input', 'value': 0.02145576780456273, 'position': 14}, {'token': 'of', 'type': 'input', 'value': 0.02145576780456273, 'position': 15}, {'token': 'the', 'type': 'input', 'value': 0.02145576780456273, 'position': 16}, {'token': 'previous', 'type': 'input', 'value': 0.030178468056911916, 'position': 17}, {'token': 'sentence', 'type': 'input', 'value': 0.02145576780456273, 'position': 18}, {'token': 'and', 'type': 'input', 'value': 0.02145576780456273, 'position': 19}, {'token': 'respond', 'type': 'input', 'value': 0.02145576780456273, 'position': 20}, {'token': 'only', 'type': 'input', 'value': 0.021455170250629055, 'position': 21}, {'token': 'with', 'type': 'input', 'value': 0.021453715780720754, 'position': 22}, {'token': '^POSITIVE^', 'type': 'input', 'value': 0.08402647561432816, 'position': 23}, {'token': 'or', 'type': 'input', 'value': 0.02145576780456273, 'position': 24}, {'token': '^NEGATIVE^', 'type': 'input', 'value': 0.10326847172294928, 'position': 25}, {'token': 'Your', 'type': 'input', 'value': 0.02145576780456273, 'position': 26}, {'token': 'answer', 'type': 'input', 'value': 0.02145576780456273, 'position': 27}, {'token': 'is', 'type': 'input', 'value': 0.030178468056911916, 'position': 28}, {'token': '^', 'type': 'input', 'value': 0.030178468056911916, 'position': 29}]}\n"
     ]
    }
   ],
   "execution_count": 72
  },
  {
   "metadata": {
    "ExecuteTime": {
     "end_time": "2024-09-24T14:48:21.785239Z",
     "start_time": "2024-09-24T14:48:21.777300Z"
    }
   },
   "cell_type": "code",
   "source": "print(big_df['bottom_reconstructed_query_0.2_result'][:20])\n",
   "id": "9235a358387f836e",
   "outputs": [
    {
     "name": "stdout",
     "output_type": "stream",
     "text": [
      "0     ^POSITIVE^\n",
      "1     ^POSITIVE^\n",
      "2     ^POSITIVE^\n",
      "3     ^POSITIVE^\n",
      "4     ^NEGATIVE^\n",
      "5     ^POSITIVE^\n",
      "6     ^POSITIVE^\n",
      "7     ^NEGATIVE^\n",
      "8     ^NEGATIVE^\n",
      "9     ^POSITIVE^\n",
      "10    ^POSITIVE^\n",
      "11    ^POSITIVE^\n",
      "12    ^NEGATIVE^\n",
      "13    ^NEGATIVE^\n",
      "14    ^POSITIVE^\n",
      "15    ^NEGATIVE^\n",
      "16    ^NEGATIVE^\n",
      "17    ^POSITIVE^\n",
      "18    ^NEGATIVE^\n",
      "19    ^POSITIVE^\n",
      "Name: bottom_reconstructed_query_0.2_result, dtype: object\n"
     ]
    }
   ],
   "execution_count": 73
  },
  {
   "metadata": {
    "ExecuteTime": {
     "end_time": "2024-09-24T14:48:22.528399Z",
     "start_time": "2024-09-24T14:48:22.521390Z"
    }
   },
   "cell_type": "code",
   "source": [
    "differences = big_df['real_output'] != big_df['bottom_reconstructed_query_0.2_result']\n",
    "print(differences.sum()/len(differences))"
   ],
   "id": "864ecdc676891e34",
   "outputs": [
    {
     "name": "stdout",
     "output_type": "stream",
     "text": [
      "0.21887550200803213\n"
     ]
    }
   ],
   "execution_count": 74
  },
  {
   "metadata": {
    "ExecuteTime": {
     "end_time": "2024-09-24T14:48:23.865237Z",
     "start_time": "2024-09-24T14:48:23.861129Z"
    }
   },
   "cell_type": "code",
   "source": [
    "differences = big_df['real_output'] != big_df['top_reconstructed_query_0.2_result']\n",
    "print(differences.sum()/len(differences))"
   ],
   "id": "5745d3c81c71470c",
   "outputs": [
    {
     "name": "stdout",
     "output_type": "stream",
     "text": [
      "0.1576305220883534\n"
     ]
    }
   ],
   "execution_count": 75
  },
  {
   "metadata": {},
   "cell_type": "code",
   "outputs": [],
   "execution_count": null,
   "source": "",
   "id": "91d05f29c1cc0691"
  },
  {
   "metadata": {
    "ExecuteTime": {
     "end_time": "2024-09-24T13:11:02.961551Z",
     "start_time": "2024-09-24T13:11:02.955972Z"
    }
   },
   "cell_type": "code",
   "source": [
    "differences = big_df['real_output'] != big_df['bottom_reconstructed_instruction_0.2_result']\n",
    "print(differences.sum()/len(differences))"
   ],
   "id": "1ba31c43152ff3f6",
   "outputs": [
    {
     "name": "stdout",
     "output_type": "stream",
     "text": [
      "0.1891348088531187\n"
     ]
    }
   ],
   "execution_count": 46
  },
  {
   "metadata": {
    "ExecuteTime": {
     "end_time": "2024-09-24T13:10:50.764788Z",
     "start_time": "2024-09-24T13:10:50.744647Z"
    }
   },
   "cell_type": "code",
   "source": [
    "differences = big_df['real_output'] != big_df['top_reconstructed_instruction_0.2_result']\n",
    "print(differences.sum()/len(differences))"
   ],
   "id": "9038b6db8146f6ea",
   "outputs": [
    {
     "name": "stdout",
     "output_type": "stream",
     "text": [
      "0.9989939637826962\n"
     ]
    }
   ],
   "execution_count": 43
  },
  {
   "metadata": {
    "ExecuteTime": {
     "end_time": "2024-09-23T13:45:23.622663Z",
     "start_time": "2024-09-23T13:45:23.617626Z"
    }
   },
   "cell_type": "code",
   "source": "print(big_df['instruction_weight'].mean())",
   "id": "39d5e3fea00d7c55",
   "outputs": [
    {
     "name": "stdout",
     "output_type": "stream",
     "text": [
      "0.7873167049738102\n"
     ]
    }
   ],
   "execution_count": 30
  },
  {
   "metadata": {
    "ExecuteTime": {
     "end_time": "2024-09-23T13:45:26.340594Z",
     "start_time": "2024-09-23T13:45:26.319856Z"
    }
   },
   "cell_type": "code",
   "source": "print(big_df['query_weight'].mean())",
   "id": "6921c49d60e64cba",
   "outputs": [
    {
     "name": "stdout",
     "output_type": "stream",
     "text": [
      "0.2114628815611635\n"
     ]
    }
   ],
   "execution_count": 31
  },
  {
   "metadata": {},
   "cell_type": "code",
   "outputs": [],
   "execution_count": null,
   "source": "",
   "id": "b4dbeae654d5b86b"
  }
 ],
 "metadata": {
  "kernelspec": {
   "display_name": "Python 3",
   "language": "python",
   "name": "python3"
  },
  "language_info": {
   "codemirror_mode": {
    "name": "ipython",
    "version": 2
   },
   "file_extension": ".py",
   "mimetype": "text/x-python",
   "name": "python",
   "nbconvert_exporter": "python",
   "pygments_lexer": "ipython2",
   "version": "2.7.6"
  }
 },
 "nbformat": 4,
 "nbformat_minor": 5
}
